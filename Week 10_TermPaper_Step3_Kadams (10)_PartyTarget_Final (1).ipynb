{
 "cells": [
  {
   "cell_type": "markdown",
   "id": "5fe5bf76",
   "metadata": {},
   "source": [
    "# Milestone 1: Data Selection and EDA (Week 6)"
   ]
  },
  {
   "cell_type": "markdown",
   "id": "96e71bc7",
   "metadata": {},
   "source": [
    "### Begin Milestone 1 with a 250-500-word narrative describing your original idea for the analysis/model building business problem.  \n",
    "### Clearly identify the problem you will address and the target for your model.  "
   ]
  },
  {
   "cell_type": "markdown",
   "id": "dac2ab77",
   "metadata": {},
   "source": [
    "### Background: In US politics, a Campaign Management company oversees all aspects of a candidate’s political campaign, including campaign strategy, budget, staff hiring and training, fundraising, advertising, adherence to campaign finance laws, and liaising with various campaign team members. Campaign Management companies serve the candidate almost exclusively, where the Campaign Manager reports directly to the candidate and runs the campaign with the candidate’s missions, vision and values in mind.  \n",
    "\n",
    "### Problem: CampaignMe is a US Campaign Management company that uses data to help get candidates into office. To run a successful campaign, avoid the problem of an unsuccessful campaign, and to ensure successful office election, CampaignMe will gather and analyze prior candidate history, including resignation history in past offices held. CampaignMe is looking to take on candidates with the highest probability of winning elections, and devise strategies to ensure that they will get elected.  \n",
    "\n",
    "### Original Idea: To ensure a successful candidate campaign and election into office at any US government level, an analysis of each CampaignMe candidate's profile needs to be completed. In this specific analysis, CampaignMe will look at past US Congressional resignations and associated political party. In some cases, resignation reasons are benign (e.g., being elected into a higher office), while others are more negative and illegal in nature (e.g., sexual harassment). A playbook for developing and executing a successful campaign will then be created and will be derived based off a created statistical model to help a potential candidate to get elected.This model analysis would be useful to Campaign Managers specificially so that they can have ground work ready in the event of the Congressional seat opening up early. \n",
    "\n",
    "### Target for model: The model target is the Congressional Member's Party, either Democrat or Republican.\n",
    "\n",
    "### Dataset: The dataset used is a Congressional Resignation dataset of 615 members of Congress who resigned or were removed from office from March 4, 1901 (the first day of the 57th Congress) through January 15, 2018, including the resigning member’s party and district, the date they resigned, the reason for their resignation and the source of the information about their resignation. https://www.kaggle.com/yamqwe/congressional-resignationse. The dataset features are defined as follows:\n",
    "\n",
    "$\\bullet$ Member: The full name of the resigned Congress member<br>\n",
    "$\\bullet$ Party: The affiliated party of the resigned Congress member (D: Democrat, R: Republican) <br>\n",
    "$\\bullet$ District: The affiliated congressional district of the resigned Congress member <br>\n",
    "$\\bullet$ Congress: The affiliated United States Congress of the resigned Congress member <br>\n",
    "$\\bullet$ Resignation Date: The resignation date of the resigned Congress member <br>\n",
    "$\\bullet$ Reason: The text resignation reason why the Congress member resigned <br>\n",
    "$\\bullet$ Source: The source in which the Congress member resignation was published and found in<br>\n",
    "$\\bullet$ Category: The categorical resignation reason why the Congress member resigned <br>\n",
    "X: Unwanted sexual contact <br>\n",
    "A: Consensual sex scandals <br>\n",
    "B\tOther scandals <br>\n",
    "C\tOther office <br>\n",
    "D\tPrivate sector <br>\n",
    "E\tHealth/family <br>\n",
    "F\tOther <br>\n",
    "G\tLeft early <br>\n",
    "H\tMilitary service <br>\n",
    "I\tElection overturned<br>"
   ]
  },
  {
   "cell_type": "code",
   "execution_count": 57,
   "id": "bf47cbd8",
   "metadata": {},
   "outputs": [],
   "source": [
    "# Import necessary packages\n",
    "import pandas as pd\n",
    "import numpy as np\n",
    "import matplotlib.pyplot as plt\n",
    "import sklearn\n",
    "from sklearn.model_selection import train_test_split #used to split data into training/test sets\n",
    "from sklearn.metrics import plot_confusion_matrix\n",
    "import yellowbrick\n",
    "from nltk.stem import PorterStemmer\n",
    "from nltk.tokenize import word_tokenize"
   ]
  },
  {
   "cell_type": "markdown",
   "id": "6ce3e4e0",
   "metadata": {},
   "source": [
    "## Exploring the Data"
   ]
  },
  {
   "cell_type": "code",
   "execution_count": 58,
   "id": "13e6cd77",
   "metadata": {},
   "outputs": [
    {
     "data": {
      "text/html": [
       "<div>\n",
       "<style scoped>\n",
       "    .dataframe tbody tr th:only-of-type {\n",
       "        vertical-align: middle;\n",
       "    }\n",
       "\n",
       "    .dataframe tbody tr th {\n",
       "        vertical-align: top;\n",
       "    }\n",
       "\n",
       "    .dataframe thead th {\n",
       "        text-align: right;\n",
       "    }\n",
       "</style>\n",
       "<table border=\"1\" class=\"dataframe\">\n",
       "  <thead>\n",
       "    <tr style=\"text-align: right;\">\n",
       "      <th></th>\n",
       "      <th>Member</th>\n",
       "      <th>Party</th>\n",
       "      <th>District</th>\n",
       "      <th>Congress</th>\n",
       "      <th>Resignation Date</th>\n",
       "      <th>Reason</th>\n",
       "      <th>Source</th>\n",
       "      <th>Category</th>\n",
       "    </tr>\n",
       "  </thead>\n",
       "  <tbody>\n",
       "    <tr>\n",
       "      <th>0</th>\n",
       "      <td>Pat Tiberi</td>\n",
       "      <td>R</td>\n",
       "      <td>OH-12</td>\n",
       "      <td>115th</td>\n",
       "      <td>1/15/2018</td>\n",
       "      <td>Took a job with the Ohio Business Roundtable</td>\n",
       "      <td>New York Times</td>\n",
       "      <td>D</td>\n",
       "    </tr>\n",
       "    <tr>\n",
       "      <th>1</th>\n",
       "      <td>Al Franken</td>\n",
       "      <td>D</td>\n",
       "      <td>MN-SEN</td>\n",
       "      <td>115th</td>\n",
       "      <td>1/2/2018</td>\n",
       "      <td>Sexual harassment/groping/unwanted kissing</td>\n",
       "      <td>Minneapolis Star Tribune</td>\n",
       "      <td>X</td>\n",
       "    </tr>\n",
       "    <tr>\n",
       "      <th>2</th>\n",
       "      <td>Trent Franks</td>\n",
       "      <td>R</td>\n",
       "      <td>AZ-08</td>\n",
       "      <td>115th</td>\n",
       "      <td>12/8/2017</td>\n",
       "      <td>Sexual harassment/surrogacy pressure</td>\n",
       "      <td>CNN</td>\n",
       "      <td>X</td>\n",
       "    </tr>\n",
       "    <tr>\n",
       "      <th>3</th>\n",
       "      <td>John Conyers</td>\n",
       "      <td>D</td>\n",
       "      <td>MI-13</td>\n",
       "      <td>115th</td>\n",
       "      <td>12/5/2017</td>\n",
       "      <td>Sexual harassment/inappropriate touching</td>\n",
       "      <td>Washington Post</td>\n",
       "      <td>X</td>\n",
       "    </tr>\n",
       "    <tr>\n",
       "      <th>4</th>\n",
       "      <td>Tim Murphy</td>\n",
       "      <td>R</td>\n",
       "      <td>PA-18</td>\n",
       "      <td>115th</td>\n",
       "      <td>10/21/2017</td>\n",
       "      <td>Extramarital affair/abortion hypocrisy</td>\n",
       "      <td>POLITICO</td>\n",
       "      <td>A</td>\n",
       "    </tr>\n",
       "  </tbody>\n",
       "</table>\n",
       "</div>"
      ],
      "text/plain": [
       "         Member Party District Congress Resignation Date  \\\n",
       "0    Pat Tiberi     R    OH-12    115th        1/15/2018   \n",
       "1    Al Franken     D   MN-SEN    115th         1/2/2018   \n",
       "2  Trent Franks     R    AZ-08    115th        12/8/2017   \n",
       "3  John Conyers     D    MI-13    115th        12/5/2017   \n",
       "4    Tim Murphy     R    PA-18    115th       10/21/2017   \n",
       "\n",
       "                                         Reason                    Source  \\\n",
       "0  Took a job with the Ohio Business Roundtable            New York Times   \n",
       "1    Sexual harassment/groping/unwanted kissing  Minneapolis Star Tribune   \n",
       "2          Sexual harassment/surrogacy pressure                       CNN   \n",
       "3      Sexual harassment/inappropriate touching           Washington Post   \n",
       "4        Extramarital affair/abortion hypocrisy                  POLITICO   \n",
       "\n",
       "  Category  \n",
       "0        D  \n",
       "1        X  \n",
       "2        X  \n",
       "3        X  \n",
       "4        A  "
      ]
     },
     "execution_count": 58,
     "metadata": {},
     "output_type": "execute_result"
    }
   ],
   "source": [
    "# load the Congressional data into a dataframe\n",
    "df = pd.read_csv('congressional_resignations.csv') \n",
    "df.head(5)"
   ]
  },
  {
   "cell_type": "code",
   "execution_count": 59,
   "id": "f4b707df",
   "metadata": {},
   "outputs": [
    {
     "data": {
      "text/plain": [
       "(615, 8)"
      ]
     },
     "execution_count": 59,
     "metadata": {},
     "output_type": "execute_result"
    }
   ],
   "source": [
    "#display the dimensions of the dataframe\n",
    "df.shape"
   ]
  },
  {
   "cell_type": "code",
   "execution_count": 60,
   "id": "9b2639c9",
   "metadata": {},
   "outputs": [
    {
     "data": {
      "text/plain": [
       "Member              object\n",
       "Party               object\n",
       "District            object\n",
       "Congress            object\n",
       "Resignation Date    object\n",
       "Reason              object\n",
       "Source              object\n",
       "Category            object\n",
       "dtype: object"
      ]
     },
     "execution_count": 60,
     "metadata": {},
     "output_type": "execute_result"
    }
   ],
   "source": [
    "#look at the column data types\n",
    "df.dtypes"
   ]
  },
  {
   "cell_type": "markdown",
   "id": "235badc7",
   "metadata": {},
   "source": [
    "### Observations\n",
    "$\\bullet$ The dataset has  615  rows and  8  columns <br>\n",
    "$\\bullet$ Some of the columns will not be useful for model building, e.g., 'Member', and 'Source' <br>\n",
    "$\\bullet$ All data is in object format, and Resignation Date will need to be converted to date/time format <br>\n",
    "$\\bullet$ The target of the model will be Party: Democrat is 0 and Republican is 1"
   ]
  },
  {
   "cell_type": "code",
   "execution_count": 61,
   "id": "df380b80",
   "metadata": {},
   "outputs": [
    {
     "data": {
      "text/html": [
       "<div>\n",
       "<style scoped>\n",
       "    .dataframe tbody tr th:only-of-type {\n",
       "        vertical-align: middle;\n",
       "    }\n",
       "\n",
       "    .dataframe tbody tr th {\n",
       "        vertical-align: top;\n",
       "    }\n",
       "\n",
       "    .dataframe thead th {\n",
       "        text-align: right;\n",
       "    }\n",
       "</style>\n",
       "<table border=\"1\" class=\"dataframe\">\n",
       "  <thead>\n",
       "    <tr style=\"text-align: right;\">\n",
       "      <th></th>\n",
       "      <th>Member</th>\n",
       "      <th>Party</th>\n",
       "      <th>District</th>\n",
       "      <th>Congress</th>\n",
       "      <th>Resignation Date</th>\n",
       "      <th>Reason</th>\n",
       "      <th>Source</th>\n",
       "      <th>Category</th>\n",
       "    </tr>\n",
       "  </thead>\n",
       "  <tbody>\n",
       "    <tr>\n",
       "      <th>count</th>\n",
       "      <td>615</td>\n",
       "      <td>615</td>\n",
       "      <td>615</td>\n",
       "      <td>615</td>\n",
       "      <td>615</td>\n",
       "      <td>615</td>\n",
       "      <td>615</td>\n",
       "      <td>615</td>\n",
       "    </tr>\n",
       "    <tr>\n",
       "      <th>unique</th>\n",
       "      <td>598</td>\n",
       "      <td>2</td>\n",
       "      <td>369</td>\n",
       "      <td>59</td>\n",
       "      <td>524</td>\n",
       "      <td>267</td>\n",
       "      <td>116</td>\n",
       "      <td>21</td>\n",
       "    </tr>\n",
       "    <tr>\n",
       "      <th>top</th>\n",
       "      <td>Robert Secrest</td>\n",
       "      <td>D</td>\n",
       "      <td>CA-SEN</td>\n",
       "      <td>93rd</td>\n",
       "      <td>12/31/1974</td>\n",
       "      <td>Appointed federal judge</td>\n",
       "      <td>U.S. Congress</td>\n",
       "      <td>C</td>\n",
       "    </tr>\n",
       "    <tr>\n",
       "      <th>freq</th>\n",
       "      <td>3</td>\n",
       "      <td>357</td>\n",
       "      <td>7</td>\n",
       "      <td>42</td>\n",
       "      <td>33</td>\n",
       "      <td>60</td>\n",
       "      <td>335</td>\n",
       "      <td>357</td>\n",
       "    </tr>\n",
       "  </tbody>\n",
       "</table>\n",
       "</div>"
      ],
      "text/plain": [
       "                Member Party District Congress Resignation Date  \\\n",
       "count              615   615      615      615              615   \n",
       "unique             598     2      369       59              524   \n",
       "top     Robert Secrest     D   CA-SEN     93rd       12/31/1974   \n",
       "freq                 3   357        7       42               33   \n",
       "\n",
       "                         Reason         Source Category  \n",
       "count                       615            615      615  \n",
       "unique                      267            116       21  \n",
       "top     Appointed federal judge  U.S. Congress        C  \n",
       "freq                         60            335      357  "
      ]
     },
     "execution_count": 61,
     "metadata": {},
     "output_type": "execute_result"
    }
   ],
   "source": [
    "#get summary statistics of the numerical data\n",
    "df.describe()"
   ]
  },
  {
   "cell_type": "code",
   "execution_count": 62,
   "id": "4557c95b",
   "metadata": {},
   "outputs": [
    {
     "data": {
      "text/html": [
       "<div>\n",
       "<style scoped>\n",
       "    .dataframe tbody tr th:only-of-type {\n",
       "        vertical-align: middle;\n",
       "    }\n",
       "\n",
       "    .dataframe tbody tr th {\n",
       "        vertical-align: top;\n",
       "    }\n",
       "\n",
       "    .dataframe thead th {\n",
       "        text-align: right;\n",
       "    }\n",
       "</style>\n",
       "<table border=\"1\" class=\"dataframe\">\n",
       "  <thead>\n",
       "    <tr style=\"text-align: right;\">\n",
       "      <th></th>\n",
       "      <th>Member</th>\n",
       "      <th>Party</th>\n",
       "      <th>District</th>\n",
       "      <th>Congress</th>\n",
       "      <th>Resignation Date</th>\n",
       "      <th>Reason</th>\n",
       "      <th>Source</th>\n",
       "      <th>Category</th>\n",
       "    </tr>\n",
       "  </thead>\n",
       "  <tbody>\n",
       "    <tr>\n",
       "      <th>count</th>\n",
       "      <td>615</td>\n",
       "      <td>615</td>\n",
       "      <td>615</td>\n",
       "      <td>615</td>\n",
       "      <td>615</td>\n",
       "      <td>615</td>\n",
       "      <td>615</td>\n",
       "      <td>615</td>\n",
       "    </tr>\n",
       "    <tr>\n",
       "      <th>unique</th>\n",
       "      <td>598</td>\n",
       "      <td>2</td>\n",
       "      <td>369</td>\n",
       "      <td>59</td>\n",
       "      <td>524</td>\n",
       "      <td>267</td>\n",
       "      <td>116</td>\n",
       "      <td>21</td>\n",
       "    </tr>\n",
       "    <tr>\n",
       "      <th>top</th>\n",
       "      <td>Robert Secrest</td>\n",
       "      <td>D</td>\n",
       "      <td>CA-SEN</td>\n",
       "      <td>93rd</td>\n",
       "      <td>12/31/1974</td>\n",
       "      <td>Appointed federal judge</td>\n",
       "      <td>U.S. Congress</td>\n",
       "      <td>C</td>\n",
       "    </tr>\n",
       "    <tr>\n",
       "      <th>freq</th>\n",
       "      <td>3</td>\n",
       "      <td>357</td>\n",
       "      <td>7</td>\n",
       "      <td>42</td>\n",
       "      <td>33</td>\n",
       "      <td>60</td>\n",
       "      <td>335</td>\n",
       "      <td>357</td>\n",
       "    </tr>\n",
       "  </tbody>\n",
       "</table>\n",
       "</div>"
      ],
      "text/plain": [
       "                Member Party District Congress Resignation Date  \\\n",
       "count              615   615      615      615              615   \n",
       "unique             598     2      369       59              524   \n",
       "top     Robert Secrest     D   CA-SEN     93rd       12/31/1974   \n",
       "freq                 3   357        7       42               33   \n",
       "\n",
       "                         Reason         Source Category  \n",
       "count                       615            615      615  \n",
       "unique                      267            116       21  \n",
       "top     Appointed federal judge  U.S. Congress        C  \n",
       "freq                         60            335      357  "
      ]
     },
     "execution_count": 62,
     "metadata": {},
     "output_type": "execute_result"
    }
   ],
   "source": [
    "#get summary statistics of the non-numerical data\n",
    "df.describe(include = ['O'])"
   ]
  },
  {
   "cell_type": "code",
   "execution_count": 136,
   "id": "430d6b33",
   "metadata": {},
   "outputs": [
    {
     "name": "stdout",
     "output_type": "stream",
     "text": [
      "Member              0\n",
      "Party               0\n",
      "District            0\n",
      "Congress            0\n",
      "Resignation Date    0\n",
      "Reason              0\n",
      "Source              0\n",
      "Category            0\n",
      "dtype: int64\n"
     ]
    }
   ],
   "source": [
    "#look for missing data in the training and test sets\n",
    "print(df.isna().sum())"
   ]
  },
  {
   "cell_type": "markdown",
   "id": "d8d1c491",
   "metadata": {},
   "source": [
    "### Observations\n",
    "$\\bullet$ There's no missing data to deal with <br>\n",
    "$\\bullet$ Being appointment to be a federal judge is the most common reason for resignation in the 'Reason' and 'Category' column (category C is \"Appointed federal judge) <br>\n",
    "$\\bullet$ The most common Party to be a part of while resignin is the Democratic Party <br>\n",
    "$\\bullet$ December 31, 1974 is the most common date to resign which is associated with the 93rd Congress (1973-1974)"
   ]
  },
  {
   "cell_type": "markdown",
   "id": "04a93d1e",
   "metadata": {},
   "source": [
    "## Visualizing the Data (Week 6, Milestone #1)"
   ]
  },
  {
   "cell_type": "code",
   "execution_count": 137,
   "id": "7f5d906f",
   "metadata": {},
   "outputs": [
    {
     "data": {
      "text/plain": [
       "Text(0.5, 1.0, 'US Political Party Distribution')"
      ]
     },
     "execution_count": 137,
     "metadata": {},
     "output_type": "execute_result"
    },
    {
     "data": {
      "image/png": "[encoded data removed]",
      "text/plain": [
       "<Figure size 576x360 with 1 Axes>"
      ]
     },
     "metadata": {},
     "output_type": "display_data"
    }
   ],
   "source": [
    "# Visualization 1: Histogram of US Political Party Affiliation\n",
    "fig, ax = plt.subplots(figsize=(8, 5))\n",
    "plt.hist(df['Party'], bins=4, color='red', edgecolor='black')\n",
    "plt.xlabel('US Political Party')\n",
    "plt.ylabel('# of Representatives')\n",
    "plt.title('US Political Party Distribution')"
   ]
  },
  {
   "cell_type": "code",
   "execution_count": 138,
   "id": "5ac1b9ff",
   "metadata": {},
   "outputs": [
    {
     "data": {
      "text/plain": [
       "Text(0.5, 1.0, 'US Representative Resigation Reason Distribution')"
      ]
     },
     "execution_count": 138,
     "metadata": {},
     "output_type": "execute_result"
    },
    {
     "data": {
      "image/png": "[encoded data removed]",
      "text/plain": [
       "<Figure size 1440x360 with 1 Axes>"
      ]
     },
     "metadata": {},
     "output_type": "display_data"
    }
   ],
   "source": [
    "# Visualization 2: Bar graph of Resignation Reason Categories \n",
    "fig, ax = plt.subplots(figsize=(20, 5))\n",
    "plt.hist(df['Category'], bins=20, color='blue', edgecolor='black')\n",
    "plt.xlabel('Resignation Reason Category' )\n",
    "plt.ylabel('Number of Resignations')\n",
    "plt.title('US Representative Resigation Reason Distribution') "
   ]
  },
  {
   "cell_type": "code",
   "execution_count": 139,
   "id": "5401bba1",
   "metadata": {},
   "outputs": [
    {
     "data": {
      "text/plain": [
       "<Figure size 1080x504 with 0 Axes>"
      ]
     },
     "metadata": {},
     "output_type": "display_data"
    },
    {
     "data": {
      "image/png": "[encoded data removed]",
      "text/plain": [
       "<Figure size 1440x720 with 1 Axes>"
      ]
     },
     "metadata": {},
     "output_type": "display_data"
    }
   ],
   "source": [
    "# Visualization 3: Resignation Data Histogram\n",
    "df['Resignation Date'] = pd.to_datetime(df['Resignation Date'], infer_datetime_format=True)\n",
    "\n",
    "plt.clf()\n",
    "fig, ax = plt.subplots(figsize=(20, 10))\n",
    "df['Resignation Date'].map(lambda d: d.month).plot(kind='hist')\n",
    "plt.xlabel('Calender Month Number')\n",
    "plt.ylabel('Resignation Frequency')\n",
    "plt.title('Resignation Month Distribution')\n",
    "plt.show()"
   ]
  },
  {
   "cell_type": "code",
   "execution_count": 140,
   "id": "c744bad5",
   "metadata": {},
   "outputs": [
    {
     "name": "stdout",
     "output_type": "stream",
     "text": [
      "Requirement already satisfied: wordcloud in c:\\users\\kadams\\anaconda3\\lib\\site-packages (1.8.1)\n",
      "Requirement already satisfied: pillow in c:\\users\\kadams\\anaconda3\\lib\\site-packages (from wordcloud) (8.4.0)\n",
      "Requirement already satisfied: matplotlib in c:\\users\\kadams\\anaconda3\\lib\\site-packages (from wordcloud) (3.5.0)\n",
      "Requirement already satisfied: numpy>=1.6.1 in c:\\users\\kadams\\anaconda3\\lib\\site-packages (from wordcloud) (1.20.3)\n",
      "Requirement already satisfied: pyparsing>=2.2.1 in c:\\users\\kadams\\anaconda3\\lib\\site-packages (from matplotlib->wordcloud) (3.0.4)\n",
      "Requirement already satisfied: cycler>=0.10 in c:\\users\\kadams\\anaconda3\\lib\\site-packages (from matplotlib->wordcloud) (0.11.0)\n",
      "Requirement already satisfied: kiwisolver>=1.0.1 in c:\\users\\kadams\\anaconda3\\lib\\site-packages (from matplotlib->wordcloud) (1.3.2)\n",
      "Requirement already satisfied: fonttools>=4.22.0 in c:\\users\\kadams\\anaconda3\\lib\\site-packages (from matplotlib->wordcloud) (4.25.0)\n",
      "Requirement already satisfied: packaging>=20.0 in c:\\users\\kadams\\anaconda3\\lib\\site-packages (from matplotlib->wordcloud) (21.3)\n",
      "Requirement already satisfied: python-dateutil>=2.7 in c:\\users\\kadams\\anaconda3\\lib\\site-packages (from matplotlib->wordcloud) (2.8.2)\n",
      "Requirement already satisfied: six>=1.5 in c:\\users\\kadams\\anaconda3\\lib\\site-packages (from python-dateutil>=2.7->matplotlib->wordcloud) (1.16.0)\n"
     ]
    },
    {
     "data": {
      "image/png": "[encoded data removed]",
      "text/plain": [
       "<Figure size 1080x504 with 1 Axes>"
      ]
     },
     "metadata": {},
     "output_type": "display_data"
    }
   ],
   "source": [
    "# Visualization 4: Word Cloud\n",
    "\n",
    "# install and import wordcloud library\n",
    "! pip install wordcloud\n",
    "import wordcloud\n",
    "# Create text variable from Reasons column\n",
    "text = df[\"Reason\"]\n",
    "# Import word cloud to visualize and create wordcloud variable while converting the text variable to a string\n",
    "from wordcloud import WordCloud, STOPWORDS, ImageColorGenerator\n",
    "wordcloud=WordCloud().generate(str(text))\n",
    "# Visualize the word cloud\n",
    "plt.imshow(wordcloud, interpolation='bilinear')\n",
    "plt.axis(\"off\")\n",
    "plt.show()"
   ]
  },
  {
   "cell_type": "markdown",
   "id": "90effe11",
   "metadata": {},
   "source": [
    "### Observations\n",
    "$\\bullet$ Viz 1: Most of the senators in the Congressional resignation dataset are a part of the Democratic party (350 vs 250 Republicans) <br>\n",
    "$\\bullet$ Viz 2: The reason most likey to have resigned are as follows: 1. Appointed or Elected to a different role in Government (C), 2. Retired, lost reelection bid, appointment was expiring (G), 3. Took a role outside of government (D), 4. Ethics or curruption issues (B), 5. Their election was successfully contested and overturned (I) <br>\n",
    "$\\bullet$ Viz 3: Most of the Congressional resignations happen in either January or December <br>\n",
    "$\\bullet$ Viz 4: The bigger the words in the cloud, the more often they are seen in the dataframe column. So, in this case, Sexual, Appointed, Harrassment and Election are the most common words found in the Reason column. Although this Word Cloud is very useful, this is out of alignment with the findings from Visualization #2 (Ethics Issues including sexual harassment being the 4th most common instead of most common), so in subsequent analyses we will look specifically at the Reason column as target variable to understand this better"
   ]
  },
  {
   "cell_type": "markdown",
   "id": "42db39f7",
   "metadata": {},
   "source": [
    "# Milestone 2: Preparing the Data for Modeling (Week 8)"
   ]
  },
  {
   "cell_type": "markdown",
   "id": "a592877b",
   "metadata": {},
   "source": [
    "## Now that you have created your idea, located data, and have started your graphical analysis, you will move on to the data preparation process of your project. After completing Milestone 2, your data should be ready for the model building/evaluation phase.\n",
    "## Explain your process at each step. You can use any methods/tools you think are most appropriate. Do what makes the most sense for your data/problem. This will vary greatly among different projects. Be careful to avoid data snooping in these steps.¶\n",
    "## Here is a list of steps to consider performing in Milestone 2"
   ]
  },
  {
   "cell_type": "markdown",
   "id": "2cbfbb4c",
   "metadata": {},
   "source": [
    "### Engineer new useful features"
   ]
  },
  {
   "cell_type": "code",
   "execution_count": 63,
   "id": "2657a841",
   "metadata": {},
   "outputs": [
    {
     "data": {
      "text/plain": [
       "(615, 8)"
      ]
     },
     "execution_count": 63,
     "metadata": {},
     "output_type": "execute_result"
    }
   ],
   "source": [
    "# Check the initial shape of the dataframe\n",
    "df.shape"
   ]
  },
  {
   "cell_type": "code",
   "execution_count": 64,
   "id": "d1800df4",
   "metadata": {},
   "outputs": [],
   "source": [
    "# Add State column based on District column\n",
    "df[['State', 'District']] = df['District'].str.split('-', 1, expand=True)"
   ]
  },
  {
   "cell_type": "code",
   "execution_count": 65,
   "id": "384bd02a",
   "metadata": {},
   "outputs": [
    {
     "data": {
      "text/html": [
       "<div>\n",
       "<style scoped>\n",
       "    .dataframe tbody tr th:only-of-type {\n",
       "        vertical-align: middle;\n",
       "    }\n",
       "\n",
       "    .dataframe tbody tr th {\n",
       "        vertical-align: top;\n",
       "    }\n",
       "\n",
       "    .dataframe thead th {\n",
       "        text-align: right;\n",
       "    }\n",
       "</style>\n",
       "<table border=\"1\" class=\"dataframe\">\n",
       "  <thead>\n",
       "    <tr style=\"text-align: right;\">\n",
       "      <th></th>\n",
       "      <th>Member</th>\n",
       "      <th>Party</th>\n",
       "      <th>State</th>\n",
       "      <th>District</th>\n",
       "      <th>Congress</th>\n",
       "      <th>Resignation Date</th>\n",
       "      <th>Reason</th>\n",
       "      <th>Source</th>\n",
       "      <th>Category</th>\n",
       "    </tr>\n",
       "  </thead>\n",
       "  <tbody>\n",
       "    <tr>\n",
       "      <th>0</th>\n",
       "      <td>Pat Tiberi</td>\n",
       "      <td>R</td>\n",
       "      <td>OH</td>\n",
       "      <td>12</td>\n",
       "      <td>115th</td>\n",
       "      <td>1/15/2018</td>\n",
       "      <td>Took a job with the Ohio Business Roundtable</td>\n",
       "      <td>New York Times</td>\n",
       "      <td>D</td>\n",
       "    </tr>\n",
       "    <tr>\n",
       "      <th>1</th>\n",
       "      <td>Al Franken</td>\n",
       "      <td>D</td>\n",
       "      <td>MN</td>\n",
       "      <td>SEN</td>\n",
       "      <td>115th</td>\n",
       "      <td>1/2/2018</td>\n",
       "      <td>Sexual harassment/groping/unwanted kissing</td>\n",
       "      <td>Minneapolis Star Tribune</td>\n",
       "      <td>X</td>\n",
       "    </tr>\n",
       "    <tr>\n",
       "      <th>2</th>\n",
       "      <td>Trent Franks</td>\n",
       "      <td>R</td>\n",
       "      <td>AZ</td>\n",
       "      <td>08</td>\n",
       "      <td>115th</td>\n",
       "      <td>12/8/2017</td>\n",
       "      <td>Sexual harassment/surrogacy pressure</td>\n",
       "      <td>CNN</td>\n",
       "      <td>X</td>\n",
       "    </tr>\n",
       "    <tr>\n",
       "      <th>3</th>\n",
       "      <td>John Conyers</td>\n",
       "      <td>D</td>\n",
       "      <td>MI</td>\n",
       "      <td>13</td>\n",
       "      <td>115th</td>\n",
       "      <td>12/5/2017</td>\n",
       "      <td>Sexual harassment/inappropriate touching</td>\n",
       "      <td>Washington Post</td>\n",
       "      <td>X</td>\n",
       "    </tr>\n",
       "    <tr>\n",
       "      <th>4</th>\n",
       "      <td>Tim Murphy</td>\n",
       "      <td>R</td>\n",
       "      <td>PA</td>\n",
       "      <td>18</td>\n",
       "      <td>115th</td>\n",
       "      <td>10/21/2017</td>\n",
       "      <td>Extramarital affair/abortion hypocrisy</td>\n",
       "      <td>POLITICO</td>\n",
       "      <td>A</td>\n",
       "    </tr>\n",
       "  </tbody>\n",
       "</table>\n",
       "</div>"
      ],
      "text/plain": [
       "         Member Party State District Congress Resignation Date  \\\n",
       "0    Pat Tiberi     R    OH       12    115th        1/15/2018   \n",
       "1    Al Franken     D    MN      SEN    115th         1/2/2018   \n",
       "2  Trent Franks     R    AZ       08    115th        12/8/2017   \n",
       "3  John Conyers     D    MI       13    115th        12/5/2017   \n",
       "4    Tim Murphy     R    PA       18    115th       10/21/2017   \n",
       "\n",
       "                                         Reason                    Source  \\\n",
       "0  Took a job with the Ohio Business Roundtable            New York Times   \n",
       "1    Sexual harassment/groping/unwanted kissing  Minneapolis Star Tribune   \n",
       "2          Sexual harassment/surrogacy pressure                       CNN   \n",
       "3      Sexual harassment/inappropriate touching           Washington Post   \n",
       "4        Extramarital affair/abortion hypocrisy                  POLITICO   \n",
       "\n",
       "  Category  \n",
       "0        D  \n",
       "1        X  \n",
       "2        X  \n",
       "3        X  \n",
       "4        A  "
      ]
     },
     "execution_count": 65,
     "metadata": {},
     "output_type": "execute_result"
    }
   ],
   "source": [
    "# Shift State column to 3rd position\n",
    "third_column = df.pop('State')\n",
    "# insert column using insert(position,column_name,third_column) function\n",
    "df.insert(2, 'State', third_column)\n",
    "df.head(5)"
   ]
  },
  {
   "cell_type": "code",
   "execution_count": 66,
   "id": "f798bc60",
   "metadata": {},
   "outputs": [
    {
     "data": {
      "text/plain": [
       "(615, 9)"
      ]
     },
     "execution_count": 66,
     "metadata": {},
     "output_type": "execute_result"
    }
   ],
   "source": [
    "# Recheck shape of dataframe to ensure new column has been added\n",
    "df.shape"
   ]
  },
  {
   "cell_type": "code",
   "execution_count": 67,
   "id": "6cac087a",
   "metadata": {},
   "outputs": [
    {
     "data": {
      "text/html": [
       "<div>\n",
       "<style scoped>\n",
       "    .dataframe tbody tr th:only-of-type {\n",
       "        vertical-align: middle;\n",
       "    }\n",
       "\n",
       "    .dataframe tbody tr th {\n",
       "        vertical-align: top;\n",
       "    }\n",
       "\n",
       "    .dataframe thead th {\n",
       "        text-align: right;\n",
       "    }\n",
       "</style>\n",
       "<table border=\"1\" class=\"dataframe\">\n",
       "  <thead>\n",
       "    <tr style=\"text-align: right;\">\n",
       "      <th></th>\n",
       "      <th>Member</th>\n",
       "      <th>Party</th>\n",
       "      <th>State</th>\n",
       "      <th>District</th>\n",
       "      <th>Congress</th>\n",
       "      <th>Resignation Date</th>\n",
       "      <th>Reason</th>\n",
       "      <th>Source</th>\n",
       "      <th>Category</th>\n",
       "      <th>Secondary Category</th>\n",
       "    </tr>\n",
       "  </thead>\n",
       "  <tbody>\n",
       "    <tr>\n",
       "      <th>0</th>\n",
       "      <td>Pat Tiberi</td>\n",
       "      <td>R</td>\n",
       "      <td>OH</td>\n",
       "      <td>12</td>\n",
       "      <td>115th</td>\n",
       "      <td>1/15/2018</td>\n",
       "      <td>Took a job with the Ohio Business Roundtable</td>\n",
       "      <td>New York Times</td>\n",
       "      <td>D</td>\n",
       "      <td>None</td>\n",
       "    </tr>\n",
       "    <tr>\n",
       "      <th>1</th>\n",
       "      <td>Al Franken</td>\n",
       "      <td>D</td>\n",
       "      <td>MN</td>\n",
       "      <td>SEN</td>\n",
       "      <td>115th</td>\n",
       "      <td>1/2/2018</td>\n",
       "      <td>Sexual harassment/groping/unwanted kissing</td>\n",
       "      <td>Minneapolis Star Tribune</td>\n",
       "      <td>X</td>\n",
       "      <td>None</td>\n",
       "    </tr>\n",
       "    <tr>\n",
       "      <th>2</th>\n",
       "      <td>Trent Franks</td>\n",
       "      <td>R</td>\n",
       "      <td>AZ</td>\n",
       "      <td>08</td>\n",
       "      <td>115th</td>\n",
       "      <td>12/8/2017</td>\n",
       "      <td>Sexual harassment/surrogacy pressure</td>\n",
       "      <td>CNN</td>\n",
       "      <td>X</td>\n",
       "      <td>None</td>\n",
       "    </tr>\n",
       "    <tr>\n",
       "      <th>3</th>\n",
       "      <td>John Conyers</td>\n",
       "      <td>D</td>\n",
       "      <td>MI</td>\n",
       "      <td>13</td>\n",
       "      <td>115th</td>\n",
       "      <td>12/5/2017</td>\n",
       "      <td>Sexual harassment/inappropriate touching</td>\n",
       "      <td>Washington Post</td>\n",
       "      <td>X</td>\n",
       "      <td>None</td>\n",
       "    </tr>\n",
       "    <tr>\n",
       "      <th>4</th>\n",
       "      <td>Tim Murphy</td>\n",
       "      <td>R</td>\n",
       "      <td>PA</td>\n",
       "      <td>18</td>\n",
       "      <td>115th</td>\n",
       "      <td>10/21/2017</td>\n",
       "      <td>Extramarital affair/abortion hypocrisy</td>\n",
       "      <td>POLITICO</td>\n",
       "      <td>A</td>\n",
       "      <td>None</td>\n",
       "    </tr>\n",
       "  </tbody>\n",
       "</table>\n",
       "</div>"
      ],
      "text/plain": [
       "         Member Party State District Congress Resignation Date  \\\n",
       "0    Pat Tiberi     R    OH       12    115th        1/15/2018   \n",
       "1    Al Franken     D    MN      SEN    115th         1/2/2018   \n",
       "2  Trent Franks     R    AZ       08    115th        12/8/2017   \n",
       "3  John Conyers     D    MI       13    115th        12/5/2017   \n",
       "4    Tim Murphy     R    PA       18    115th       10/21/2017   \n",
       "\n",
       "                                         Reason                    Source  \\\n",
       "0  Took a job with the Ohio Business Roundtable            New York Times   \n",
       "1    Sexual harassment/groping/unwanted kissing  Minneapolis Star Tribune   \n",
       "2          Sexual harassment/surrogacy pressure                       CNN   \n",
       "3      Sexual harassment/inappropriate touching           Washington Post   \n",
       "4        Extramarital affair/abortion hypocrisy                  POLITICO   \n",
       "\n",
       "  Category Secondary Category  \n",
       "0        D               None  \n",
       "1        X               None  \n",
       "2        X               None  \n",
       "3        X               None  \n",
       "4        A               None  "
      ]
     },
     "execution_count": 67,
     "metadata": {},
     "output_type": "execute_result"
    }
   ],
   "source": [
    "# Add Secondary Category Column to house any secondary category reasons for resigning (e.g., some Category values are 2 reasons, like B & C)\n",
    "df[['Category', 'Secondary Category']] = df['Category'].str.split(' &', 1, expand=True)\n",
    "df.head(5)"
   ]
  },
  {
   "cell_type": "code",
   "execution_count": 68,
   "id": "cd1cc4b2",
   "metadata": {},
   "outputs": [
    {
     "data": {
      "text/plain": [
       "(615, 10)"
      ]
     },
     "execution_count": 68,
     "metadata": {},
     "output_type": "execute_result"
    }
   ],
   "source": [
    "# Recheck shape of dataframe to ensure new column has been added\n",
    "df.shape"
   ]
  },
  {
   "cell_type": "code",
   "execution_count": 69,
   "id": "e719cd02",
   "metadata": {},
   "outputs": [],
   "source": [
    "# Category column coding\n",
    "# 'X': 'Unwanted sexual contact', 'A': 'Consensual sex scandals', 'B': 'Other scandals', 'C': 'Other Office', \n",
    "# 'D': 'Private Sector', 'E': 'Health or Family', 'F': 'Other', 'G': 'Left Early''H': 'Military Service', 'I': 'Election Overturned'"
   ]
  },
  {
   "cell_type": "markdown",
   "id": "efa9dc80",
   "metadata": {},
   "source": [
    "### Drop any features that are not useful for your model building and explain why they are not useful"
   ]
  },
  {
   "cell_type": "code",
   "execution_count": 70,
   "id": "8d0aa902",
   "metadata": {},
   "outputs": [
    {
     "data": {
      "text/html": [
       "<div>\n",
       "<style scoped>\n",
       "    .dataframe tbody tr th:only-of-type {\n",
       "        vertical-align: middle;\n",
       "    }\n",
       "\n",
       "    .dataframe tbody tr th {\n",
       "        vertical-align: top;\n",
       "    }\n",
       "\n",
       "    .dataframe thead th {\n",
       "        text-align: right;\n",
       "    }\n",
       "</style>\n",
       "<table border=\"1\" class=\"dataframe\">\n",
       "  <thead>\n",
       "    <tr style=\"text-align: right;\">\n",
       "      <th></th>\n",
       "      <th>Party</th>\n",
       "      <th>State</th>\n",
       "      <th>District</th>\n",
       "      <th>Congress</th>\n",
       "      <th>Reason</th>\n",
       "      <th>Category</th>\n",
       "      <th>Secondary Category</th>\n",
       "    </tr>\n",
       "  </thead>\n",
       "  <tbody>\n",
       "    <tr>\n",
       "      <th>0</th>\n",
       "      <td>R</td>\n",
       "      <td>OH</td>\n",
       "      <td>12</td>\n",
       "      <td>115th</td>\n",
       "      <td>Took a job with the Ohio Business Roundtable</td>\n",
       "      <td>D</td>\n",
       "      <td>None</td>\n",
       "    </tr>\n",
       "    <tr>\n",
       "      <th>1</th>\n",
       "      <td>D</td>\n",
       "      <td>MN</td>\n",
       "      <td>SEN</td>\n",
       "      <td>115th</td>\n",
       "      <td>Sexual harassment/groping/unwanted kissing</td>\n",
       "      <td>X</td>\n",
       "      <td>None</td>\n",
       "    </tr>\n",
       "    <tr>\n",
       "      <th>2</th>\n",
       "      <td>R</td>\n",
       "      <td>AZ</td>\n",
       "      <td>08</td>\n",
       "      <td>115th</td>\n",
       "      <td>Sexual harassment/surrogacy pressure</td>\n",
       "      <td>X</td>\n",
       "      <td>None</td>\n",
       "    </tr>\n",
       "    <tr>\n",
       "      <th>3</th>\n",
       "      <td>D</td>\n",
       "      <td>MI</td>\n",
       "      <td>13</td>\n",
       "      <td>115th</td>\n",
       "      <td>Sexual harassment/inappropriate touching</td>\n",
       "      <td>X</td>\n",
       "      <td>None</td>\n",
       "    </tr>\n",
       "    <tr>\n",
       "      <th>4</th>\n",
       "      <td>R</td>\n",
       "      <td>PA</td>\n",
       "      <td>18</td>\n",
       "      <td>115th</td>\n",
       "      <td>Extramarital affair/abortion hypocrisy</td>\n",
       "      <td>A</td>\n",
       "      <td>None</td>\n",
       "    </tr>\n",
       "  </tbody>\n",
       "</table>\n",
       "</div>"
      ],
      "text/plain": [
       "  Party State District Congress                                        Reason  \\\n",
       "0     R    OH       12    115th  Took a job with the Ohio Business Roundtable   \n",
       "1     D    MN      SEN    115th    Sexual harassment/groping/unwanted kissing   \n",
       "2     R    AZ       08    115th          Sexual harassment/surrogacy pressure   \n",
       "3     D    MI       13    115th      Sexual harassment/inappropriate touching   \n",
       "4     R    PA       18    115th        Extramarital affair/abortion hypocrisy   \n",
       "\n",
       "  Category Secondary Category  \n",
       "0        D               None  \n",
       "1        X               None  \n",
       "2        X               None  \n",
       "3        X               None  \n",
       "4        A               None  "
      ]
     },
     "execution_count": 70,
     "metadata": {},
     "output_type": "execute_result"
    }
   ],
   "source": [
    "# Drop the Member, Source and Resignation Date as these features are not required for a candidate playbook for a Congressional Campaign \n",
    "df = df.drop(['Member', 'Source', 'Resignation Date'], axis = 1)\n",
    "df.head(5)"
   ]
  },
  {
   "cell_type": "code",
   "execution_count": 71,
   "id": "b35f4dbe",
   "metadata": {},
   "outputs": [
    {
     "data": {
      "text/plain": [
       "(615, 7)"
      ]
     },
     "execution_count": 71,
     "metadata": {},
     "output_type": "execute_result"
    }
   ],
   "source": [
    "# Recheck shape of dataframe to ensure new column has been removed\n",
    "df.shape"
   ]
  },
  {
   "cell_type": "markdown",
   "id": "9ada80fb",
   "metadata": {},
   "source": [
    "### Observations\n",
    "$\\bullet$ Member, Resignation Date and Source features are not useful in this model building because when creating a playbook for future elections, the Congress Member's name will not be important to analyze. Also, the source where the resignation is published will also not be important to create the playbook. Resignation Date is included in the Congress column with a margin (2 year period). For this analysis, we are specifically looking for Party affiliations of the resigned Congress Member (e.g., State, District, Congress, Resignation Date) that could be applied to future candidates. <br>"
   ]
  },
  {
   "cell_type": "markdown",
   "id": "5ecf1ab1",
   "metadata": {},
   "source": [
    "### Transform features if necessary"
   ]
  },
  {
   "cell_type": "code",
   "execution_count": 72,
   "id": "75e25c6a",
   "metadata": {},
   "outputs": [
    {
     "data": {
      "text/plain": [
       "Party                 object\n",
       "State                 object\n",
       "District              object\n",
       "Congress              object\n",
       "Reason                object\n",
       "Category              object\n",
       "Secondary Category    object\n",
       "dtype: object"
      ]
     },
     "execution_count": 72,
     "metadata": {},
     "output_type": "execute_result"
    }
   ],
   "source": [
    "#look at the column data types\n",
    "df.dtypes"
   ]
  },
  {
   "cell_type": "code",
   "execution_count": 73,
   "id": "26410714",
   "metadata": {},
   "outputs": [],
   "source": [
    "# Convert Party string to binary options (Democrat is 0 and Republican is 1)\n",
    "df['Party'] = df.Party.replace(to_replace=['D', 'R'], value=[0, 1])"
   ]
  },
  {
   "cell_type": "code",
   "execution_count": 74,
   "id": "48b5626b",
   "metadata": {},
   "outputs": [
    {
     "data": {
      "text/html": [
       "<div>\n",
       "<style scoped>\n",
       "    .dataframe tbody tr th:only-of-type {\n",
       "        vertical-align: middle;\n",
       "    }\n",
       "\n",
       "    .dataframe tbody tr th {\n",
       "        vertical-align: top;\n",
       "    }\n",
       "\n",
       "    .dataframe thead th {\n",
       "        text-align: right;\n",
       "    }\n",
       "</style>\n",
       "<table border=\"1\" class=\"dataframe\">\n",
       "  <thead>\n",
       "    <tr style=\"text-align: right;\">\n",
       "      <th></th>\n",
       "      <th>Party</th>\n",
       "      <th>State</th>\n",
       "      <th>District</th>\n",
       "      <th>Congress</th>\n",
       "      <th>Reason</th>\n",
       "      <th>Category</th>\n",
       "      <th>Secondary Category</th>\n",
       "    </tr>\n",
       "  </thead>\n",
       "  <tbody>\n",
       "    <tr>\n",
       "      <th>0</th>\n",
       "      <td>1</td>\n",
       "      <td>OH</td>\n",
       "      <td>12</td>\n",
       "      <td>115th</td>\n",
       "      <td>Took a job with the Ohio Business Roundtable</td>\n",
       "      <td>D</td>\n",
       "      <td>None</td>\n",
       "    </tr>\n",
       "    <tr>\n",
       "      <th>1</th>\n",
       "      <td>0</td>\n",
       "      <td>MN</td>\n",
       "      <td>SEN</td>\n",
       "      <td>115th</td>\n",
       "      <td>Sexual harassment/groping/unwanted kissing</td>\n",
       "      <td>X</td>\n",
       "      <td>None</td>\n",
       "    </tr>\n",
       "    <tr>\n",
       "      <th>2</th>\n",
       "      <td>1</td>\n",
       "      <td>AZ</td>\n",
       "      <td>08</td>\n",
       "      <td>115th</td>\n",
       "      <td>Sexual harassment/surrogacy pressure</td>\n",
       "      <td>X</td>\n",
       "      <td>None</td>\n",
       "    </tr>\n",
       "    <tr>\n",
       "      <th>3</th>\n",
       "      <td>0</td>\n",
       "      <td>MI</td>\n",
       "      <td>13</td>\n",
       "      <td>115th</td>\n",
       "      <td>Sexual harassment/inappropriate touching</td>\n",
       "      <td>X</td>\n",
       "      <td>None</td>\n",
       "    </tr>\n",
       "    <tr>\n",
       "      <th>4</th>\n",
       "      <td>1</td>\n",
       "      <td>PA</td>\n",
       "      <td>18</td>\n",
       "      <td>115th</td>\n",
       "      <td>Extramarital affair/abortion hypocrisy</td>\n",
       "      <td>A</td>\n",
       "      <td>None</td>\n",
       "    </tr>\n",
       "  </tbody>\n",
       "</table>\n",
       "</div>"
      ],
      "text/plain": [
       "   Party State District Congress  \\\n",
       "0      1    OH       12    115th   \n",
       "1      0    MN      SEN    115th   \n",
       "2      1    AZ       08    115th   \n",
       "3      0    MI       13    115th   \n",
       "4      1    PA       18    115th   \n",
       "\n",
       "                                         Reason Category Secondary Category  \n",
       "0  Took a job with the Ohio Business Roundtable        D               None  \n",
       "1    Sexual harassment/groping/unwanted kissing        X               None  \n",
       "2          Sexual harassment/surrogacy pressure        X               None  \n",
       "3      Sexual harassment/inappropriate touching        X               None  \n",
       "4        Extramarital affair/abortion hypocrisy        A               None  "
      ]
     },
     "execution_count": 74,
     "metadata": {},
     "output_type": "execute_result"
    }
   ],
   "source": [
    "df.head(5)"
   ]
  },
  {
   "cell_type": "code",
   "execution_count": 75,
   "id": "68b8913a",
   "metadata": {},
   "outputs": [
    {
     "data": {
      "text/html": [
       "<div>\n",
       "<style scoped>\n",
       "    .dataframe tbody tr th:only-of-type {\n",
       "        vertical-align: middle;\n",
       "    }\n",
       "\n",
       "    .dataframe tbody tr th {\n",
       "        vertical-align: top;\n",
       "    }\n",
       "\n",
       "    .dataframe thead th {\n",
       "        text-align: right;\n",
       "    }\n",
       "</style>\n",
       "<table border=\"1\" class=\"dataframe\">\n",
       "  <thead>\n",
       "    <tr style=\"text-align: right;\">\n",
       "      <th></th>\n",
       "      <th>Party</th>\n",
       "      <th>State</th>\n",
       "      <th>District</th>\n",
       "      <th>Congress</th>\n",
       "      <th>Reason</th>\n",
       "      <th>Category</th>\n",
       "      <th>Secondary Category</th>\n",
       "    </tr>\n",
       "  </thead>\n",
       "  <tbody>\n",
       "    <tr>\n",
       "      <th>0</th>\n",
       "      <td>1</td>\n",
       "      <td>OH</td>\n",
       "      <td>12</td>\n",
       "      <td>115th</td>\n",
       "      <td>Took a job with the Ohio Business Roundtable</td>\n",
       "      <td>D</td>\n",
       "      <td>None</td>\n",
       "    </tr>\n",
       "    <tr>\n",
       "      <th>1</th>\n",
       "      <td>0</td>\n",
       "      <td>MN</td>\n",
       "      <td>SEN</td>\n",
       "      <td>115th</td>\n",
       "      <td>Sexual harassment groping unwanted kissing</td>\n",
       "      <td>X</td>\n",
       "      <td>None</td>\n",
       "    </tr>\n",
       "    <tr>\n",
       "      <th>2</th>\n",
       "      <td>1</td>\n",
       "      <td>AZ</td>\n",
       "      <td>08</td>\n",
       "      <td>115th</td>\n",
       "      <td>Sexual harassment surrogacy pressure</td>\n",
       "      <td>X</td>\n",
       "      <td>None</td>\n",
       "    </tr>\n",
       "    <tr>\n",
       "      <th>3</th>\n",
       "      <td>0</td>\n",
       "      <td>MI</td>\n",
       "      <td>13</td>\n",
       "      <td>115th</td>\n",
       "      <td>Sexual harassment inappropriate touching</td>\n",
       "      <td>X</td>\n",
       "      <td>None</td>\n",
       "    </tr>\n",
       "    <tr>\n",
       "      <th>4</th>\n",
       "      <td>1</td>\n",
       "      <td>PA</td>\n",
       "      <td>18</td>\n",
       "      <td>115th</td>\n",
       "      <td>Extramarital affair abortion hypocrisy</td>\n",
       "      <td>A</td>\n",
       "      <td>None</td>\n",
       "    </tr>\n",
       "  </tbody>\n",
       "</table>\n",
       "</div>"
      ],
      "text/plain": [
       "   Party State District Congress  \\\n",
       "0      1    OH       12    115th   \n",
       "1      0    MN      SEN    115th   \n",
       "2      1    AZ       08    115th   \n",
       "3      0    MI       13    115th   \n",
       "4      1    PA       18    115th   \n",
       "\n",
       "                                         Reason Category Secondary Category  \n",
       "0  Took a job with the Ohio Business Roundtable        D               None  \n",
       "1    Sexual harassment groping unwanted kissing        X               None  \n",
       "2          Sexual harassment surrogacy pressure        X               None  \n",
       "3      Sexual harassment inappropriate touching        X               None  \n",
       "4        Extramarital affair abortion hypocrisy        A               None  "
      ]
     },
     "execution_count": 75,
     "metadata": {},
     "output_type": "execute_result"
    }
   ],
   "source": [
    "# Reason Column: Convert all / forward slashes to a space\n",
    "df['Reason'] = df['Reason'].str.replace('/', ' ')\n",
    "df.head(5)"
   ]
  },
  {
   "cell_type": "code",
   "execution_count": 76,
   "id": "2660de17",
   "metadata": {},
   "outputs": [
    {
     "name": "stderr",
     "output_type": "stream",
     "text": [
      "C:\\Users\\kadams\\AppData\\Local\\Temp/ipykernel_18260/531963144.py:4: FutureWarning: The default value of regex will change from True to False in a future version.\n",
      "  df['Reason'] = df['Reason'].str.replace(r'[^\\w\\s]+', '') # use str.replace to remove all the special characters\n"
     ]
    },
    {
     "data": {
      "text/html": [
       "<div>\n",
       "<style scoped>\n",
       "    .dataframe tbody tr th:only-of-type {\n",
       "        vertical-align: middle;\n",
       "    }\n",
       "\n",
       "    .dataframe tbody tr th {\n",
       "        vertical-align: top;\n",
       "    }\n",
       "\n",
       "    .dataframe thead th {\n",
       "        text-align: right;\n",
       "    }\n",
       "</style>\n",
       "<table border=\"1\" class=\"dataframe\">\n",
       "  <thead>\n",
       "    <tr style=\"text-align: right;\">\n",
       "      <th></th>\n",
       "      <th>Party</th>\n",
       "      <th>State</th>\n",
       "      <th>District</th>\n",
       "      <th>Congress</th>\n",
       "      <th>Reason</th>\n",
       "      <th>Category</th>\n",
       "      <th>Secondary Category</th>\n",
       "    </tr>\n",
       "  </thead>\n",
       "  <tbody>\n",
       "    <tr>\n",
       "      <th>0</th>\n",
       "      <td>1</td>\n",
       "      <td>OH</td>\n",
       "      <td>12</td>\n",
       "      <td>115th</td>\n",
       "      <td>took a job with the ohio business roundtable</td>\n",
       "      <td>D</td>\n",
       "      <td>None</td>\n",
       "    </tr>\n",
       "    <tr>\n",
       "      <th>1</th>\n",
       "      <td>0</td>\n",
       "      <td>MN</td>\n",
       "      <td>SEN</td>\n",
       "      <td>115th</td>\n",
       "      <td>sexual harassment groping unwanted kissing</td>\n",
       "      <td>X</td>\n",
       "      <td>None</td>\n",
       "    </tr>\n",
       "    <tr>\n",
       "      <th>2</th>\n",
       "      <td>1</td>\n",
       "      <td>AZ</td>\n",
       "      <td>08</td>\n",
       "      <td>115th</td>\n",
       "      <td>sexual harassment surrogacy pressure</td>\n",
       "      <td>X</td>\n",
       "      <td>None</td>\n",
       "    </tr>\n",
       "    <tr>\n",
       "      <th>3</th>\n",
       "      <td>0</td>\n",
       "      <td>MI</td>\n",
       "      <td>13</td>\n",
       "      <td>115th</td>\n",
       "      <td>sexual harassment inappropriate touching</td>\n",
       "      <td>X</td>\n",
       "      <td>None</td>\n",
       "    </tr>\n",
       "    <tr>\n",
       "      <th>4</th>\n",
       "      <td>1</td>\n",
       "      <td>PA</td>\n",
       "      <td>18</td>\n",
       "      <td>115th</td>\n",
       "      <td>extramarital affair abortion hypocrisy</td>\n",
       "      <td>A</td>\n",
       "      <td>None</td>\n",
       "    </tr>\n",
       "  </tbody>\n",
       "</table>\n",
       "</div>"
      ],
      "text/plain": [
       "   Party State District Congress  \\\n",
       "0      1    OH       12    115th   \n",
       "1      0    MN      SEN    115th   \n",
       "2      1    AZ       08    115th   \n",
       "3      0    MI       13    115th   \n",
       "4      1    PA       18    115th   \n",
       "\n",
       "                                         Reason Category Secondary Category  \n",
       "0  took a job with the ohio business roundtable        D               None  \n",
       "1    sexual harassment groping unwanted kissing        X               None  \n",
       "2          sexual harassment surrogacy pressure        X               None  \n",
       "3      sexual harassment inappropriate touching        X               None  \n",
       "4        extramarital affair abortion hypocrisy        A               None  "
      ]
     },
     "execution_count": 76,
     "metadata": {},
     "output_type": "execute_result"
    }
   ],
   "source": [
    "# Reason Column: Convert all text to lowercase\n",
    "df['Reason'] = df['Reason'].str.lower() # use str.lower to convert all text to lowercase letters\n",
    "# Reason Column: Remove punctuation and special characters\n",
    "df['Reason'] = df['Reason'].str.replace(r'[^\\w\\s]+', '') # use str.replace to remove all the special characters\n",
    "df.head(5)"
   ]
  },
  {
   "cell_type": "code",
   "execution_count": 77,
   "id": "8dd9c600",
   "metadata": {},
   "outputs": [
    {
     "name": "stderr",
     "output_type": "stream",
     "text": [
      "[nltk_data] Downloading package stopwords to\n",
      "[nltk_data]     C:\\Users\\kadams\\AppData\\Roaming\\nltk_data...\n",
      "[nltk_data]   Package stopwords is already up-to-date!\n"
     ]
    },
    {
     "data": {
      "text/html": [
       "<div>\n",
       "<style scoped>\n",
       "    .dataframe tbody tr th:only-of-type {\n",
       "        vertical-align: middle;\n",
       "    }\n",
       "\n",
       "    .dataframe tbody tr th {\n",
       "        vertical-align: top;\n",
       "    }\n",
       "\n",
       "    .dataframe thead th {\n",
       "        text-align: right;\n",
       "    }\n",
       "</style>\n",
       "<table border=\"1\" class=\"dataframe\">\n",
       "  <thead>\n",
       "    <tr style=\"text-align: right;\">\n",
       "      <th></th>\n",
       "      <th>Party</th>\n",
       "      <th>State</th>\n",
       "      <th>District</th>\n",
       "      <th>Congress</th>\n",
       "      <th>Reason</th>\n",
       "      <th>Category</th>\n",
       "      <th>Secondary Category</th>\n",
       "    </tr>\n",
       "  </thead>\n",
       "  <tbody>\n",
       "    <tr>\n",
       "      <th>0</th>\n",
       "      <td>1</td>\n",
       "      <td>OH</td>\n",
       "      <td>12</td>\n",
       "      <td>115th</td>\n",
       "      <td>took job ohio business roundtable</td>\n",
       "      <td>D</td>\n",
       "      <td>None</td>\n",
       "    </tr>\n",
       "    <tr>\n",
       "      <th>1</th>\n",
       "      <td>0</td>\n",
       "      <td>MN</td>\n",
       "      <td>SEN</td>\n",
       "      <td>115th</td>\n",
       "      <td>sexual harassment groping unwanted kissing</td>\n",
       "      <td>X</td>\n",
       "      <td>None</td>\n",
       "    </tr>\n",
       "    <tr>\n",
       "      <th>2</th>\n",
       "      <td>1</td>\n",
       "      <td>AZ</td>\n",
       "      <td>08</td>\n",
       "      <td>115th</td>\n",
       "      <td>sexual harassment surrogacy pressure</td>\n",
       "      <td>X</td>\n",
       "      <td>None</td>\n",
       "    </tr>\n",
       "    <tr>\n",
       "      <th>3</th>\n",
       "      <td>0</td>\n",
       "      <td>MI</td>\n",
       "      <td>13</td>\n",
       "      <td>115th</td>\n",
       "      <td>sexual harassment inappropriate touching</td>\n",
       "      <td>X</td>\n",
       "      <td>None</td>\n",
       "    </tr>\n",
       "    <tr>\n",
       "      <th>4</th>\n",
       "      <td>1</td>\n",
       "      <td>PA</td>\n",
       "      <td>18</td>\n",
       "      <td>115th</td>\n",
       "      <td>extramarital affair abortion hypocrisy</td>\n",
       "      <td>A</td>\n",
       "      <td>None</td>\n",
       "    </tr>\n",
       "  </tbody>\n",
       "</table>\n",
       "</div>"
      ],
      "text/plain": [
       "   Party State District Congress                                      Reason  \\\n",
       "0      1    OH       12    115th           took job ohio business roundtable   \n",
       "1      0    MN      SEN    115th  sexual harassment groping unwanted kissing   \n",
       "2      1    AZ       08    115th        sexual harassment surrogacy pressure   \n",
       "3      0    MI       13    115th    sexual harassment inappropriate touching   \n",
       "4      1    PA       18    115th      extramarital affair abortion hypocrisy   \n",
       "\n",
       "  Category Secondary Category  \n",
       "0        D               None  \n",
       "1        X               None  \n",
       "2        X               None  \n",
       "3        X               None  \n",
       "4        A               None  "
      ]
     },
     "execution_count": 77,
     "metadata": {},
     "output_type": "execute_result"
    }
   ],
   "source": [
    "# Reason Column: Remove stop words\n",
    "# Import library\n",
    "import nltk\n",
    "nltk.download('stopwords')\n",
    "from nltk.corpus import stopwords\n",
    "# Import stopwords with nltk\n",
    "stop = stopwords.words('english')\n",
    "# Exclude stopwords with Python's list comprehension and pandas.DataFrame.apply.\n",
    "df['Reason'] = df['Reason'].apply(lambda x: ' '.join([word for word in x.split() if word not in (stop)]))\n",
    "df.head(5)"
   ]
  },
  {
   "cell_type": "code",
   "execution_count": 78,
   "id": "656a53ea",
   "metadata": {},
   "outputs": [],
   "source": [
    "# create porter_stemmer variable\n",
    "porter_stemmer = PorterStemmer() "
   ]
  },
  {
   "cell_type": "code",
   "execution_count": 79,
   "id": "52a10beb",
   "metadata": {},
   "outputs": [],
   "source": [
    "# Tokenize the sentences\n",
    "df['Reason_tokenized']=df['Reason'].apply(lambda x : filter(None,x.split(\" \")))"
   ]
  },
  {
   "cell_type": "code",
   "execution_count": 80,
   "id": "b29b5476",
   "metadata": {},
   "outputs": [],
   "source": [
    "# Apply stemmer to the above tokenized column as follows\n",
    "df['Reason_stemmed']=df['Reason_tokenized'].apply(lambda x : [porter_stemmer.stem(y) for y in x])"
   ]
  },
  {
   "cell_type": "code",
   "execution_count": 81,
   "id": "4ca9a37a",
   "metadata": {},
   "outputs": [
    {
     "data": {
      "text/html": [
       "<div>\n",
       "<style scoped>\n",
       "    .dataframe tbody tr th:only-of-type {\n",
       "        vertical-align: middle;\n",
       "    }\n",
       "\n",
       "    .dataframe tbody tr th {\n",
       "        vertical-align: top;\n",
       "    }\n",
       "\n",
       "    .dataframe thead th {\n",
       "        text-align: right;\n",
       "    }\n",
       "</style>\n",
       "<table border=\"1\" class=\"dataframe\">\n",
       "  <thead>\n",
       "    <tr style=\"text-align: right;\">\n",
       "      <th></th>\n",
       "      <th>Party</th>\n",
       "      <th>State</th>\n",
       "      <th>District</th>\n",
       "      <th>Congress</th>\n",
       "      <th>Reason</th>\n",
       "      <th>Category</th>\n",
       "      <th>Secondary Category</th>\n",
       "      <th>Reason_tokenized</th>\n",
       "      <th>Reason_stemmed</th>\n",
       "      <th>Reason_stemmed_sentence</th>\n",
       "    </tr>\n",
       "  </thead>\n",
       "  <tbody>\n",
       "    <tr>\n",
       "      <th>0</th>\n",
       "      <td>1</td>\n",
       "      <td>OH</td>\n",
       "      <td>12</td>\n",
       "      <td>115th</td>\n",
       "      <td>took job ohio business roundtable</td>\n",
       "      <td>D</td>\n",
       "      <td>None</td>\n",
       "      <td>&lt;filter object at 0x000001A49791D4F0&gt;</td>\n",
       "      <td>[took, job, ohio, busi, roundtabl]</td>\n",
       "      <td>took job ohio busi roundtabl</td>\n",
       "    </tr>\n",
       "    <tr>\n",
       "      <th>1</th>\n",
       "      <td>0</td>\n",
       "      <td>MN</td>\n",
       "      <td>SEN</td>\n",
       "      <td>115th</td>\n",
       "      <td>sexual harassment groping unwanted kissing</td>\n",
       "      <td>X</td>\n",
       "      <td>None</td>\n",
       "      <td>&lt;filter object at 0x000001A49791D370&gt;</td>\n",
       "      <td>[sexual, harass, grope, unwant, kiss]</td>\n",
       "      <td>sexual harass grope unwant kiss</td>\n",
       "    </tr>\n",
       "    <tr>\n",
       "      <th>2</th>\n",
       "      <td>1</td>\n",
       "      <td>AZ</td>\n",
       "      <td>08</td>\n",
       "      <td>115th</td>\n",
       "      <td>sexual harassment surrogacy pressure</td>\n",
       "      <td>X</td>\n",
       "      <td>None</td>\n",
       "      <td>&lt;filter object at 0x000001A49791DBB0&gt;</td>\n",
       "      <td>[sexual, harass, surrogaci, pressur]</td>\n",
       "      <td>sexual harass surrogaci pressur</td>\n",
       "    </tr>\n",
       "    <tr>\n",
       "      <th>3</th>\n",
       "      <td>0</td>\n",
       "      <td>MI</td>\n",
       "      <td>13</td>\n",
       "      <td>115th</td>\n",
       "      <td>sexual harassment inappropriate touching</td>\n",
       "      <td>X</td>\n",
       "      <td>None</td>\n",
       "      <td>&lt;filter object at 0x000001A49791DD00&gt;</td>\n",
       "      <td>[sexual, harass, inappropri, touch]</td>\n",
       "      <td>sexual harass inappropri touch</td>\n",
       "    </tr>\n",
       "    <tr>\n",
       "      <th>4</th>\n",
       "      <td>1</td>\n",
       "      <td>PA</td>\n",
       "      <td>18</td>\n",
       "      <td>115th</td>\n",
       "      <td>extramarital affair abortion hypocrisy</td>\n",
       "      <td>A</td>\n",
       "      <td>None</td>\n",
       "      <td>&lt;filter object at 0x000001A49791D5E0&gt;</td>\n",
       "      <td>[extramarit, affair, abort, hypocrisi]</td>\n",
       "      <td>extramarit affair abort hypocrisi</td>\n",
       "    </tr>\n",
       "  </tbody>\n",
       "</table>\n",
       "</div>"
      ],
      "text/plain": [
       "   Party State District Congress                                      Reason  \\\n",
       "0      1    OH       12    115th           took job ohio business roundtable   \n",
       "1      0    MN      SEN    115th  sexual harassment groping unwanted kissing   \n",
       "2      1    AZ       08    115th        sexual harassment surrogacy pressure   \n",
       "3      0    MI       13    115th    sexual harassment inappropriate touching   \n",
       "4      1    PA       18    115th      extramarital affair abortion hypocrisy   \n",
       "\n",
       "  Category Secondary Category                       Reason_tokenized  \\\n",
       "0        D               None  <filter object at 0x000001A49791D4F0>   \n",
       "1        X               None  <filter object at 0x000001A49791D370>   \n",
       "2        X               None  <filter object at 0x000001A49791DBB0>   \n",
       "3        X               None  <filter object at 0x000001A49791DD00>   \n",
       "4        A               None  <filter object at 0x000001A49791D5E0>   \n",
       "\n",
       "                           Reason_stemmed            Reason_stemmed_sentence  \n",
       "0      [took, job, ohio, busi, roundtabl]       took job ohio busi roundtabl  \n",
       "1   [sexual, harass, grope, unwant, kiss]    sexual harass grope unwant kiss  \n",
       "2    [sexual, harass, surrogaci, pressur]    sexual harass surrogaci pressur  \n",
       "3     [sexual, harass, inappropri, touch]     sexual harass inappropri touch  \n",
       "4  [extramarit, affair, abort, hypocrisi]  extramarit affair abort hypocrisi  "
      ]
     },
     "execution_count": 81,
     "metadata": {},
     "output_type": "execute_result"
    }
   ],
   "source": [
    "# Go back to review in sentence format\n",
    "df['Reason_stemmed_sentence']=df['Reason_stemmed'].apply(lambda x : \" \".join(x))\n",
    "df.head(5)"
   ]
  },
  {
   "cell_type": "code",
   "execution_count": 82,
   "id": "a6efe79c",
   "metadata": {},
   "outputs": [
    {
     "data": {
      "text/html": [
       "<div>\n",
       "<style scoped>\n",
       "    .dataframe tbody tr th:only-of-type {\n",
       "        vertical-align: middle;\n",
       "    }\n",
       "\n",
       "    .dataframe tbody tr th {\n",
       "        vertical-align: top;\n",
       "    }\n",
       "\n",
       "    .dataframe thead th {\n",
       "        text-align: right;\n",
       "    }\n",
       "</style>\n",
       "<table border=\"1\" class=\"dataframe\">\n",
       "  <thead>\n",
       "    <tr style=\"text-align: right;\">\n",
       "      <th></th>\n",
       "      <th>Party</th>\n",
       "      <th>State</th>\n",
       "      <th>District</th>\n",
       "      <th>Congress</th>\n",
       "      <th>Reason</th>\n",
       "      <th>Category</th>\n",
       "      <th>Secondary Category</th>\n",
       "      <th>Reason_tokenized</th>\n",
       "      <th>Reason_stemmed</th>\n",
       "      <th>Reason_stemmed_sentence</th>\n",
       "      <th>polarity</th>\n",
       "      <th>subjectivity</th>\n",
       "    </tr>\n",
       "  </thead>\n",
       "  <tbody>\n",
       "    <tr>\n",
       "      <th>0</th>\n",
       "      <td>1</td>\n",
       "      <td>OH</td>\n",
       "      <td>12</td>\n",
       "      <td>115th</td>\n",
       "      <td>took job ohio business roundtable</td>\n",
       "      <td>D</td>\n",
       "      <td>None</td>\n",
       "      <td>&lt;filter object at 0x000001A49791D4F0&gt;</td>\n",
       "      <td>[took, job, ohio, busi, roundtabl]</td>\n",
       "      <td>took job ohio busi roundtabl</td>\n",
       "      <td>0.0</td>\n",
       "      <td>0.000000</td>\n",
       "    </tr>\n",
       "    <tr>\n",
       "      <th>1</th>\n",
       "      <td>0</td>\n",
       "      <td>MN</td>\n",
       "      <td>SEN</td>\n",
       "      <td>115th</td>\n",
       "      <td>sexual harassment groping unwanted kissing</td>\n",
       "      <td>X</td>\n",
       "      <td>None</td>\n",
       "      <td>&lt;filter object at 0x000001A49791D370&gt;</td>\n",
       "      <td>[sexual, harass, grope, unwant, kiss]</td>\n",
       "      <td>sexual harass grope unwant kiss</td>\n",
       "      <td>0.5</td>\n",
       "      <td>0.833333</td>\n",
       "    </tr>\n",
       "    <tr>\n",
       "      <th>2</th>\n",
       "      <td>1</td>\n",
       "      <td>AZ</td>\n",
       "      <td>08</td>\n",
       "      <td>115th</td>\n",
       "      <td>sexual harassment surrogacy pressure</td>\n",
       "      <td>X</td>\n",
       "      <td>None</td>\n",
       "      <td>&lt;filter object at 0x000001A49791DBB0&gt;</td>\n",
       "      <td>[sexual, harass, surrogaci, pressur]</td>\n",
       "      <td>sexual harass surrogaci pressur</td>\n",
       "      <td>0.5</td>\n",
       "      <td>0.833333</td>\n",
       "    </tr>\n",
       "    <tr>\n",
       "      <th>3</th>\n",
       "      <td>0</td>\n",
       "      <td>MI</td>\n",
       "      <td>13</td>\n",
       "      <td>115th</td>\n",
       "      <td>sexual harassment inappropriate touching</td>\n",
       "      <td>X</td>\n",
       "      <td>None</td>\n",
       "      <td>&lt;filter object at 0x000001A49791DD00&gt;</td>\n",
       "      <td>[sexual, harass, inappropri, touch]</td>\n",
       "      <td>sexual harass inappropri touch</td>\n",
       "      <td>0.5</td>\n",
       "      <td>0.666667</td>\n",
       "    </tr>\n",
       "    <tr>\n",
       "      <th>4</th>\n",
       "      <td>1</td>\n",
       "      <td>PA</td>\n",
       "      <td>18</td>\n",
       "      <td>115th</td>\n",
       "      <td>extramarital affair abortion hypocrisy</td>\n",
       "      <td>A</td>\n",
       "      <td>None</td>\n",
       "      <td>&lt;filter object at 0x000001A49791D5E0&gt;</td>\n",
       "      <td>[extramarit, affair, abort, hypocrisi]</td>\n",
       "      <td>extramarit affair abort hypocrisi</td>\n",
       "      <td>0.0</td>\n",
       "      <td>0.000000</td>\n",
       "    </tr>\n",
       "  </tbody>\n",
       "</table>\n",
       "</div>"
      ],
      "text/plain": [
       "   Party State District Congress                                      Reason  \\\n",
       "0      1    OH       12    115th           took job ohio business roundtable   \n",
       "1      0    MN      SEN    115th  sexual harassment groping unwanted kissing   \n",
       "2      1    AZ       08    115th        sexual harassment surrogacy pressure   \n",
       "3      0    MI       13    115th    sexual harassment inappropriate touching   \n",
       "4      1    PA       18    115th      extramarital affair abortion hypocrisy   \n",
       "\n",
       "  Category Secondary Category                       Reason_tokenized  \\\n",
       "0        D               None  <filter object at 0x000001A49791D4F0>   \n",
       "1        X               None  <filter object at 0x000001A49791D370>   \n",
       "2        X               None  <filter object at 0x000001A49791DBB0>   \n",
       "3        X               None  <filter object at 0x000001A49791DD00>   \n",
       "4        A               None  <filter object at 0x000001A49791D5E0>   \n",
       "\n",
       "                           Reason_stemmed            Reason_stemmed_sentence  \\\n",
       "0      [took, job, ohio, busi, roundtabl]       took job ohio busi roundtabl   \n",
       "1   [sexual, harass, grope, unwant, kiss]    sexual harass grope unwant kiss   \n",
       "2    [sexual, harass, surrogaci, pressur]    sexual harass surrogaci pressur   \n",
       "3     [sexual, harass, inappropri, touch]     sexual harass inappropri touch   \n",
       "4  [extramarit, affair, abort, hypocrisi]  extramarit affair abort hypocrisi   \n",
       "\n",
       "   polarity  subjectivity  \n",
       "0       0.0      0.000000  \n",
       "1       0.5      0.833333  \n",
       "2       0.5      0.833333  \n",
       "3       0.5      0.666667  \n",
       "4       0.0      0.000000  "
      ]
     },
     "execution_count": 82,
     "metadata": {},
     "output_type": "execute_result"
    }
   ],
   "source": [
    "# add a Reason Sentiment column (0 is a positive or neutral registation reason/successful candidate, and 1 is  negative registation reason/unsuccessful candidate)\n",
    "# import TextBlob\n",
    "from textblob import TextBlob\n",
    "# Classify each reason as positive or negative\n",
    "df[['polarity', 'subjectivity']] = df['Reason'].apply(lambda Text: pd.Series(TextBlob(Text).sentiment))\n",
    "df.head(5)"
   ]
  },
  {
   "cell_type": "code",
   "execution_count": 83,
   "id": "e09feed6",
   "metadata": {},
   "outputs": [
    {
     "data": {
      "text/html": [
       "<div>\n",
       "<style scoped>\n",
       "    .dataframe tbody tr th:only-of-type {\n",
       "        vertical-align: middle;\n",
       "    }\n",
       "\n",
       "    .dataframe tbody tr th {\n",
       "        vertical-align: top;\n",
       "    }\n",
       "\n",
       "    .dataframe thead th {\n",
       "        text-align: right;\n",
       "    }\n",
       "</style>\n",
       "<table border=\"1\" class=\"dataframe\">\n",
       "  <thead>\n",
       "    <tr style=\"text-align: right;\">\n",
       "      <th></th>\n",
       "      <th>Party</th>\n",
       "      <th>State</th>\n",
       "      <th>District</th>\n",
       "      <th>Congress</th>\n",
       "      <th>Reason</th>\n",
       "      <th>Category</th>\n",
       "      <th>Secondary Category</th>\n",
       "      <th>Reason_tokenized</th>\n",
       "      <th>Reason_stemmed</th>\n",
       "      <th>Reason_stemmed_sentence</th>\n",
       "      <th>polarity</th>\n",
       "      <th>subjectivity</th>\n",
       "      <th>Reason_score</th>\n",
       "    </tr>\n",
       "  </thead>\n",
       "  <tbody>\n",
       "    <tr>\n",
       "      <th>0</th>\n",
       "      <td>1</td>\n",
       "      <td>OH</td>\n",
       "      <td>12</td>\n",
       "      <td>115th</td>\n",
       "      <td>took job ohio business roundtable</td>\n",
       "      <td>D</td>\n",
       "      <td>None</td>\n",
       "      <td>&lt;filter object at 0x000001A49791D4F0&gt;</td>\n",
       "      <td>[took, job, ohio, busi, roundtabl]</td>\n",
       "      <td>took job ohio busi roundtabl</td>\n",
       "      <td>0.0</td>\n",
       "      <td>0.000000</td>\n",
       "      <td>0</td>\n",
       "    </tr>\n",
       "    <tr>\n",
       "      <th>1</th>\n",
       "      <td>0</td>\n",
       "      <td>MN</td>\n",
       "      <td>SEN</td>\n",
       "      <td>115th</td>\n",
       "      <td>sexual harassment groping unwanted kissing</td>\n",
       "      <td>X</td>\n",
       "      <td>None</td>\n",
       "      <td>&lt;filter object at 0x000001A49791D370&gt;</td>\n",
       "      <td>[sexual, harass, grope, unwant, kiss]</td>\n",
       "      <td>sexual harass grope unwant kiss</td>\n",
       "      <td>0.5</td>\n",
       "      <td>0.833333</td>\n",
       "      <td>1</td>\n",
       "    </tr>\n",
       "    <tr>\n",
       "      <th>2</th>\n",
       "      <td>1</td>\n",
       "      <td>AZ</td>\n",
       "      <td>08</td>\n",
       "      <td>115th</td>\n",
       "      <td>sexual harassment surrogacy pressure</td>\n",
       "      <td>X</td>\n",
       "      <td>None</td>\n",
       "      <td>&lt;filter object at 0x000001A49791DBB0&gt;</td>\n",
       "      <td>[sexual, harass, surrogaci, pressur]</td>\n",
       "      <td>sexual harass surrogaci pressur</td>\n",
       "      <td>0.5</td>\n",
       "      <td>0.833333</td>\n",
       "      <td>1</td>\n",
       "    </tr>\n",
       "    <tr>\n",
       "      <th>3</th>\n",
       "      <td>0</td>\n",
       "      <td>MI</td>\n",
       "      <td>13</td>\n",
       "      <td>115th</td>\n",
       "      <td>sexual harassment inappropriate touching</td>\n",
       "      <td>X</td>\n",
       "      <td>None</td>\n",
       "      <td>&lt;filter object at 0x000001A49791DD00&gt;</td>\n",
       "      <td>[sexual, harass, inappropri, touch]</td>\n",
       "      <td>sexual harass inappropri touch</td>\n",
       "      <td>0.5</td>\n",
       "      <td>0.666667</td>\n",
       "      <td>1</td>\n",
       "    </tr>\n",
       "    <tr>\n",
       "      <th>4</th>\n",
       "      <td>1</td>\n",
       "      <td>PA</td>\n",
       "      <td>18</td>\n",
       "      <td>115th</td>\n",
       "      <td>extramarital affair abortion hypocrisy</td>\n",
       "      <td>A</td>\n",
       "      <td>None</td>\n",
       "      <td>&lt;filter object at 0x000001A49791D5E0&gt;</td>\n",
       "      <td>[extramarit, affair, abort, hypocrisi]</td>\n",
       "      <td>extramarit affair abort hypocrisi</td>\n",
       "      <td>0.0</td>\n",
       "      <td>0.000000</td>\n",
       "      <td>0</td>\n",
       "    </tr>\n",
       "  </tbody>\n",
       "</table>\n",
       "</div>"
      ],
      "text/plain": [
       "   Party State District Congress                                      Reason  \\\n",
       "0      1    OH       12    115th           took job ohio business roundtable   \n",
       "1      0    MN      SEN    115th  sexual harassment groping unwanted kissing   \n",
       "2      1    AZ       08    115th        sexual harassment surrogacy pressure   \n",
       "3      0    MI       13    115th    sexual harassment inappropriate touching   \n",
       "4      1    PA       18    115th      extramarital affair abortion hypocrisy   \n",
       "\n",
       "  Category Secondary Category                       Reason_tokenized  \\\n",
       "0        D               None  <filter object at 0x000001A49791D4F0>   \n",
       "1        X               None  <filter object at 0x000001A49791D370>   \n",
       "2        X               None  <filter object at 0x000001A49791DBB0>   \n",
       "3        X               None  <filter object at 0x000001A49791DD00>   \n",
       "4        A               None  <filter object at 0x000001A49791D5E0>   \n",
       "\n",
       "                           Reason_stemmed            Reason_stemmed_sentence  \\\n",
       "0      [took, job, ohio, busi, roundtabl]       took job ohio busi roundtabl   \n",
       "1   [sexual, harass, grope, unwant, kiss]    sexual harass grope unwant kiss   \n",
       "2    [sexual, harass, surrogaci, pressur]    sexual harass surrogaci pressur   \n",
       "3     [sexual, harass, inappropri, touch]     sexual harass inappropri touch   \n",
       "4  [extramarit, affair, abort, hypocrisi]  extramarit affair abort hypocrisi   \n",
       "\n",
       "   polarity  subjectivity  Reason_score  \n",
       "0       0.0      0.000000             0  \n",
       "1       0.5      0.833333             1  \n",
       "2       0.5      0.833333             1  \n",
       "3       0.5      0.666667             1  \n",
       "4       0.0      0.000000             0  "
      ]
     },
     "execution_count": 83,
     "metadata": {},
     "output_type": "execute_result"
    }
   ],
   "source": [
    "# Create Reason_score column based on the polarity column\n",
    "df['Reason_score'] = df['polarity'].apply(lambda x: 1 if x > 0 else 0) # 0 is a neutral/positive sentiment, and 1 is a negative sentiment of the Reason column\n",
    "df.head(5)"
   ]
  },
  {
   "cell_type": "code",
   "execution_count": 84,
   "id": "a3493f92",
   "metadata": {},
   "outputs": [
    {
     "data": {
      "text/plain": [
       "Party                        int64\n",
       "State                       object\n",
       "District                    object\n",
       "Congress                    object\n",
       "Reason                      object\n",
       "Category                    object\n",
       "Secondary Category          object\n",
       "Reason_tokenized            object\n",
       "Reason_stemmed              object\n",
       "Reason_stemmed_sentence     object\n",
       "polarity                   float64\n",
       "subjectivity               float64\n",
       "Reason_score                 int64\n",
       "dtype: object"
      ]
     },
     "execution_count": 84,
     "metadata": {},
     "output_type": "execute_result"
    }
   ],
   "source": [
    "# look at column type of each column\n",
    "df.dtypes"
   ]
  },
  {
   "cell_type": "markdown",
   "id": "b13246ae",
   "metadata": {},
   "source": [
    "### Deal with missing data (do not just drop rows or columns without justifying this)"
   ]
  },
  {
   "cell_type": "code",
   "execution_count": 85,
   "id": "d8b1930b",
   "metadata": {},
   "outputs": [
    {
     "name": "stdout",
     "output_type": "stream",
     "text": [
      "Party                        0\n",
      "State                        0\n",
      "District                     0\n",
      "Congress                     0\n",
      "Reason                       0\n",
      "Category                     0\n",
      "Secondary Category         598\n",
      "Reason_tokenized             0\n",
      "Reason_stemmed               0\n",
      "Reason_stemmed_sentence      0\n",
      "polarity                     0\n",
      "subjectivity                 0\n",
      "Reason_score                 0\n",
      "dtype: int64\n"
     ]
    }
   ],
   "source": [
    "#look for missing data in the training and test sets\n",
    "print(df.isna().sum())\n",
    "\n",
    "# The Secondary Category column has missing data as the majorty (598/615) of the Category column only have 1 resigation reason category. These missing values will not cause issues in the modeling, so they will remain as-is."
   ]
  },
  {
   "cell_type": "markdown",
   "id": "707cf491",
   "metadata": {},
   "source": [
    "### Create dummy variables if necessary"
   ]
  },
  {
   "cell_type": "code",
   "execution_count": 86,
   "id": "08364ec1",
   "metadata": {},
   "outputs": [
    {
     "data": {
      "text/html": [
       "<div>\n",
       "<style scoped>\n",
       "    .dataframe tbody tr th:only-of-type {\n",
       "        vertical-align: middle;\n",
       "    }\n",
       "\n",
       "    .dataframe tbody tr th {\n",
       "        vertical-align: top;\n",
       "    }\n",
       "\n",
       "    .dataframe thead th {\n",
       "        text-align: right;\n",
       "    }\n",
       "</style>\n",
       "<table border=\"1\" class=\"dataframe\">\n",
       "  <thead>\n",
       "    <tr style=\"text-align: right;\">\n",
       "      <th></th>\n",
       "      <th>Party</th>\n",
       "      <th>Reason</th>\n",
       "      <th>Reason_tokenized</th>\n",
       "      <th>Reason_stemmed</th>\n",
       "      <th>Reason_stemmed_sentence</th>\n",
       "      <th>polarity</th>\n",
       "      <th>subjectivity</th>\n",
       "      <th>Reason_score</th>\n",
       "      <th>State_ FL</th>\n",
       "      <th>State_AK</th>\n",
       "      <th>...</th>\n",
       "      <th>Category_F</th>\n",
       "      <th>Category_G</th>\n",
       "      <th>Category_H</th>\n",
       "      <th>Category_I</th>\n",
       "      <th>Category_X</th>\n",
       "      <th>Secondary Category_ C</th>\n",
       "      <th>Secondary Category_ D</th>\n",
       "      <th>Secondary Category_ E</th>\n",
       "      <th>Secondary Category_ F</th>\n",
       "      <th>Secondary Category_ G</th>\n",
       "    </tr>\n",
       "  </thead>\n",
       "  <tbody>\n",
       "    <tr>\n",
       "      <th>0</th>\n",
       "      <td>1</td>\n",
       "      <td>took job ohio business roundtable</td>\n",
       "      <td>&lt;filter object at 0x000001A49791D4F0&gt;</td>\n",
       "      <td>[took, job, ohio, busi, roundtabl]</td>\n",
       "      <td>took job ohio busi roundtabl</td>\n",
       "      <td>0.0</td>\n",
       "      <td>0.000000</td>\n",
       "      <td>0</td>\n",
       "      <td>0</td>\n",
       "      <td>0</td>\n",
       "      <td>...</td>\n",
       "      <td>0</td>\n",
       "      <td>0</td>\n",
       "      <td>0</td>\n",
       "      <td>0</td>\n",
       "      <td>0</td>\n",
       "      <td>0</td>\n",
       "      <td>0</td>\n",
       "      <td>0</td>\n",
       "      <td>0</td>\n",
       "      <td>0</td>\n",
       "    </tr>\n",
       "    <tr>\n",
       "      <th>1</th>\n",
       "      <td>0</td>\n",
       "      <td>sexual harassment groping unwanted kissing</td>\n",
       "      <td>&lt;filter object at 0x000001A49791D370&gt;</td>\n",
       "      <td>[sexual, harass, grope, unwant, kiss]</td>\n",
       "      <td>sexual harass grope unwant kiss</td>\n",
       "      <td>0.5</td>\n",
       "      <td>0.833333</td>\n",
       "      <td>1</td>\n",
       "      <td>0</td>\n",
       "      <td>0</td>\n",
       "      <td>...</td>\n",
       "      <td>0</td>\n",
       "      <td>0</td>\n",
       "      <td>0</td>\n",
       "      <td>0</td>\n",
       "      <td>1</td>\n",
       "      <td>0</td>\n",
       "      <td>0</td>\n",
       "      <td>0</td>\n",
       "      <td>0</td>\n",
       "      <td>0</td>\n",
       "    </tr>\n",
       "    <tr>\n",
       "      <th>2</th>\n",
       "      <td>1</td>\n",
       "      <td>sexual harassment surrogacy pressure</td>\n",
       "      <td>&lt;filter object at 0x000001A49791DBB0&gt;</td>\n",
       "      <td>[sexual, harass, surrogaci, pressur]</td>\n",
       "      <td>sexual harass surrogaci pressur</td>\n",
       "      <td>0.5</td>\n",
       "      <td>0.833333</td>\n",
       "      <td>1</td>\n",
       "      <td>0</td>\n",
       "      <td>0</td>\n",
       "      <td>...</td>\n",
       "      <td>0</td>\n",
       "      <td>0</td>\n",
       "      <td>0</td>\n",
       "      <td>0</td>\n",
       "      <td>1</td>\n",
       "      <td>0</td>\n",
       "      <td>0</td>\n",
       "      <td>0</td>\n",
       "      <td>0</td>\n",
       "      <td>0</td>\n",
       "    </tr>\n",
       "    <tr>\n",
       "      <th>3</th>\n",
       "      <td>0</td>\n",
       "      <td>sexual harassment inappropriate touching</td>\n",
       "      <td>&lt;filter object at 0x000001A49791DD00&gt;</td>\n",
       "      <td>[sexual, harass, inappropri, touch]</td>\n",
       "      <td>sexual harass inappropri touch</td>\n",
       "      <td>0.5</td>\n",
       "      <td>0.666667</td>\n",
       "      <td>1</td>\n",
       "      <td>0</td>\n",
       "      <td>0</td>\n",
       "      <td>...</td>\n",
       "      <td>0</td>\n",
       "      <td>0</td>\n",
       "      <td>0</td>\n",
       "      <td>0</td>\n",
       "      <td>1</td>\n",
       "      <td>0</td>\n",
       "      <td>0</td>\n",
       "      <td>0</td>\n",
       "      <td>0</td>\n",
       "      <td>0</td>\n",
       "    </tr>\n",
       "    <tr>\n",
       "      <th>4</th>\n",
       "      <td>1</td>\n",
       "      <td>extramarital affair abortion hypocrisy</td>\n",
       "      <td>&lt;filter object at 0x000001A49791D5E0&gt;</td>\n",
       "      <td>[extramarit, affair, abort, hypocrisi]</td>\n",
       "      <td>extramarit affair abort hypocrisi</td>\n",
       "      <td>0.0</td>\n",
       "      <td>0.000000</td>\n",
       "      <td>0</td>\n",
       "      <td>0</td>\n",
       "      <td>0</td>\n",
       "      <td>...</td>\n",
       "      <td>0</td>\n",
       "      <td>0</td>\n",
       "      <td>0</td>\n",
       "      <td>0</td>\n",
       "      <td>0</td>\n",
       "      <td>0</td>\n",
       "      <td>0</td>\n",
       "      <td>0</td>\n",
       "      <td>0</td>\n",
       "      <td>0</td>\n",
       "    </tr>\n",
       "  </tbody>\n",
       "</table>\n",
       "<p>5 rows × 178 columns</p>\n",
       "</div>"
      ],
      "text/plain": [
       "   Party                                      Reason  \\\n",
       "0      1           took job ohio business roundtable   \n",
       "1      0  sexual harassment groping unwanted kissing   \n",
       "2      1        sexual harassment surrogacy pressure   \n",
       "3      0    sexual harassment inappropriate touching   \n",
       "4      1      extramarital affair abortion hypocrisy   \n",
       "\n",
       "                        Reason_tokenized  \\\n",
       "0  <filter object at 0x000001A49791D4F0>   \n",
       "1  <filter object at 0x000001A49791D370>   \n",
       "2  <filter object at 0x000001A49791DBB0>   \n",
       "3  <filter object at 0x000001A49791DD00>   \n",
       "4  <filter object at 0x000001A49791D5E0>   \n",
       "\n",
       "                           Reason_stemmed            Reason_stemmed_sentence  \\\n",
       "0      [took, job, ohio, busi, roundtabl]       took job ohio busi roundtabl   \n",
       "1   [sexual, harass, grope, unwant, kiss]    sexual harass grope unwant kiss   \n",
       "2    [sexual, harass, surrogaci, pressur]    sexual harass surrogaci pressur   \n",
       "3     [sexual, harass, inappropri, touch]     sexual harass inappropri touch   \n",
       "4  [extramarit, affair, abort, hypocrisi]  extramarit affair abort hypocrisi   \n",
       "\n",
       "   polarity  subjectivity  Reason_score  State_ FL  State_AK  ...  Category_F  \\\n",
       "0       0.0      0.000000             0          0         0  ...           0   \n",
       "1       0.5      0.833333             1          0         0  ...           0   \n",
       "2       0.5      0.833333             1          0         0  ...           0   \n",
       "3       0.5      0.666667             1          0         0  ...           0   \n",
       "4       0.0      0.000000             0          0         0  ...           0   \n",
       "\n",
       "   Category_G  Category_H  Category_I  Category_X  Secondary Category_ C  \\\n",
       "0           0           0           0           0                      0   \n",
       "1           0           0           0           1                      0   \n",
       "2           0           0           0           1                      0   \n",
       "3           0           0           0           1                      0   \n",
       "4           0           0           0           0                      0   \n",
       "\n",
       "   Secondary Category_ D  Secondary Category_ E  Secondary Category_ F  \\\n",
       "0                      0                      0                      0   \n",
       "1                      0                      0                      0   \n",
       "2                      0                      0                      0   \n",
       "3                      0                      0                      0   \n",
       "4                      0                      0                      0   \n",
       "\n",
       "   Secondary Category_ G  \n",
       "0                      0  \n",
       "1                      0  \n",
       "2                      0  \n",
       "3                      0  \n",
       "4                      0  \n",
       "\n",
       "[5 rows x 178 columns]"
      ]
     },
     "execution_count": 86,
     "metadata": {},
     "output_type": "execute_result"
    }
   ],
   "source": [
    "# Create dummy variables for the origin column\n",
    "df = pd.concat([df.drop(['State', 'District', 'Congress','Category','Secondary Category'], axis=1), pd.get_dummies(df[['State', 'District', 'Congress','Category','Secondary Category']])], axis=1)\n",
    "df.head(5)"
   ]
  },
  {
   "cell_type": "code",
   "execution_count": 87,
   "id": "764d0bbb",
   "metadata": {},
   "outputs": [
    {
     "name": "stdout",
     "output_type": "stream",
     "text": [
      "Party\n",
      "Reason\n",
      "Reason_tokenized\n",
      "Reason_stemmed\n",
      "Reason_stemmed_sentence\n",
      "polarity\n",
      "subjectivity\n",
      "Reason_score\n",
      "State_ FL\n",
      "State_AK\n",
      "State_AL\n",
      "State_AR\n",
      "State_AZ\n",
      "State_CA\n",
      "State_CO\n",
      "State_CT\n",
      "State_DE\n",
      "State_FL\n",
      "State_GA\n",
      "State_HI\n",
      "State_IA\n",
      "State_ID\n",
      "State_IL\n",
      "State_IN\n",
      "State_KS\n",
      "State_KY\n",
      "State_LA\n",
      "State_MA\n",
      "State_MD\n",
      "State_ME\n",
      "State_MI\n",
      "State_MN\n",
      "State_MO\n",
      "State_MS\n",
      "State_MT\n",
      "State_NC\n",
      "State_ND\n",
      "State_NE\n",
      "State_NH\n",
      "State_NJ\n",
      "State_NM\n",
      "State_NV\n",
      "State_NY\n",
      "State_OH\n",
      "State_OK\n",
      "State_OR\n",
      "State_PA\n",
      "State_RI\n",
      "State_SC\n",
      "State_SD\n",
      "State_TN\n",
      "State_TX\n",
      "State_UT\n",
      "State_VA\n",
      "State_VT\n",
      "State_WA\n",
      "State_WI\n",
      "State_WV\n",
      "State_WY\n",
      "District_01\n",
      "District_02\n",
      "District_03\n",
      "District_04\n",
      "District_05\n",
      "District_06\n",
      "District_07\n",
      "District_08\n",
      "District_09\n",
      "District_10\n",
      "District_11\n",
      "District_12\n",
      "District_13\n",
      "District_14\n",
      "District_15\n",
      "District_16\n",
      "District_17\n",
      "District_18\n",
      "District_19\n",
      "District_20\n",
      "District_21\n",
      "District_22\n",
      "District_23\n",
      "District_24\n",
      "District_25\n",
      "District_26\n",
      "District_27\n",
      "District_28\n",
      "District_29\n",
      "District_30\n",
      "District_32\n",
      "District_33\n",
      "District_34\n",
      "District_36\n",
      "District_37\n",
      "District_38\n",
      "District_39\n",
      "District_41\n",
      "District_42\n",
      "District_44\n",
      "District_48\n",
      "District_50\n",
      "District_51\n",
      "District_AL\n",
      "District_SEN\n",
      "Congress_100th\n",
      "Congress_101st\n",
      "Congress_102nd\n",
      "Congress_103rd\n",
      "Congress_104th\n",
      "Congress_105th\n",
      "Congress_106th\n",
      "Congress_107th\n",
      "Congress_108th\n",
      "Congress_109th\n",
      "Congress_110th\n",
      "Congress_111th\n",
      "Congress_112th\n",
      "Congress_113th\n",
      "Congress_114th\n",
      "Congress_115th\n",
      "Congress_57th\n",
      "Congress_58th\n",
      "Congress_59th\n",
      "Congress_60th\n",
      "Congress_61st\n",
      "Congress_62nd\n",
      "Congress_63rd\n",
      "Congress_64th\n",
      "Congress_65th\n",
      "Congress_66th\n",
      "Congress_67th\n",
      "Congress_68th\n",
      "Congress_69th\n",
      "Congress_70th\n",
      "Congress_71st\n",
      "Congress_72nd\n",
      "Congress_73rd\n",
      "Congress_74th\n",
      "Congress_75th\n",
      "Congress_76th\n",
      "Congress_77th\n",
      "Congress_78th\n",
      "Congress_79th\n",
      "Congress_80th\n",
      "Congress_81st\n",
      "Congress_82nd\n",
      "Congress_83rd\n",
      "Congress_84th\n",
      "Congress_85th\n",
      "Congress_86th\n",
      "Congress_87th\n",
      "Congress_88th\n",
      "Congress_89th\n",
      "Congress_90th\n",
      "Congress_91st\n",
      "Congress_92nd\n",
      "Congress_93rd\n",
      "Congress_94th\n",
      "Congress_95th\n",
      "Congress_96th\n",
      "Congress_97th\n",
      "Congress_98th\n",
      "Congress_99th\n",
      "Category_A\n",
      "Category_B\n",
      "Category_C\n",
      "Category_D\n",
      "Category_E\n",
      "Category_F\n",
      "Category_G\n",
      "Category_H\n",
      "Category_I\n",
      "Category_X\n",
      "Secondary Category_ C\n",
      "Secondary Category_ D\n",
      "Secondary Category_ E\n",
      "Secondary Category_ F\n",
      "Secondary Category_ G\n"
     ]
    }
   ],
   "source": [
    "# Check all column names in the dataframe\n",
    "for col_name in df.columns: \n",
    "    print(col_name)"
   ]
  },
  {
   "cell_type": "code",
   "execution_count": 88,
   "id": "2db89f14",
   "metadata": {},
   "outputs": [
    {
     "data": {
      "text/plain": [
       "(615, 178)"
      ]
     },
     "execution_count": 88,
     "metadata": {},
     "output_type": "execute_result"
    }
   ],
   "source": [
    "# Recheck shape of dataframe to ensure new column has been removed\n",
    "df.shape"
   ]
  },
  {
   "cell_type": "code",
   "execution_count": 89,
   "id": "aef7074d",
   "metadata": {},
   "outputs": [],
   "source": [
    "# Split the data into a training and test set, drop all columns related to the target\n",
    "X = df.drop(['Party', 'Reason','Reason_tokenized', 'Reason_stemmed', 'Reason_stemmed_sentence', 'polarity', 'subjectivity'], axis = 1)\n",
    "# Get the target\n",
    "y = df['Party'] \n",
    "#split the data into training and test sets\n",
    "#split the data into training and test sets (80% Training/20% Test)\n",
    "X_train, X_test, y_train, y_test = train_test_split(X, y, test_size = 0.2)"
   ]
  },
  {
   "cell_type": "code",
   "execution_count": 90,
   "id": "9093e321",
   "metadata": {},
   "outputs": [],
   "source": [
    "# Reset indices in the training and test sets to prevent pandas slicing warnings\n",
    "X_train = X_train.reset_index(drop = True) #drop + True drops the previous index\n",
    "X_test = X_test.reset_index(drop = True)\n",
    "y_train = y_train.reset_index(drop = True)\n",
    "y_test = y_test.reset_index(drop = True)"
   ]
  },
  {
   "cell_type": "code",
   "execution_count": 91,
   "id": "ed552fc4",
   "metadata": {},
   "outputs": [
    {
     "name": "stdout",
     "output_type": "stream",
     "text": [
      "(492, 171)\n",
      "(123, 171)\n",
      "0    283\n",
      "1    209\n",
      "Name: Party, dtype: int64\n",
      "0    74\n",
      "1    49\n",
      "Name: Party, dtype: int64\n"
     ]
    },
    {
     "data": {
      "text/html": [
       "<div>\n",
       "<style scoped>\n",
       "    .dataframe tbody tr th:only-of-type {\n",
       "        vertical-align: middle;\n",
       "    }\n",
       "\n",
       "    .dataframe tbody tr th {\n",
       "        vertical-align: top;\n",
       "    }\n",
       "\n",
       "    .dataframe thead th {\n",
       "        text-align: right;\n",
       "    }\n",
       "</style>\n",
       "<table border=\"1\" class=\"dataframe\">\n",
       "  <thead>\n",
       "    <tr style=\"text-align: right;\">\n",
       "      <th></th>\n",
       "      <th>Reason_score</th>\n",
       "      <th>State_ FL</th>\n",
       "      <th>State_AK</th>\n",
       "      <th>State_AL</th>\n",
       "      <th>State_AR</th>\n",
       "      <th>State_AZ</th>\n",
       "      <th>State_CA</th>\n",
       "      <th>State_CO</th>\n",
       "      <th>State_CT</th>\n",
       "      <th>State_DE</th>\n",
       "      <th>...</th>\n",
       "      <th>Category_F</th>\n",
       "      <th>Category_G</th>\n",
       "      <th>Category_H</th>\n",
       "      <th>Category_I</th>\n",
       "      <th>Category_X</th>\n",
       "      <th>Secondary Category_ C</th>\n",
       "      <th>Secondary Category_ D</th>\n",
       "      <th>Secondary Category_ E</th>\n",
       "      <th>Secondary Category_ F</th>\n",
       "      <th>Secondary Category_ G</th>\n",
       "    </tr>\n",
       "  </thead>\n",
       "  <tbody>\n",
       "    <tr>\n",
       "      <th>0</th>\n",
       "      <td>0</td>\n",
       "      <td>0</td>\n",
       "      <td>0</td>\n",
       "      <td>0</td>\n",
       "      <td>0</td>\n",
       "      <td>0</td>\n",
       "      <td>0</td>\n",
       "      <td>0</td>\n",
       "      <td>0</td>\n",
       "      <td>0</td>\n",
       "      <td>...</td>\n",
       "      <td>0</td>\n",
       "      <td>0</td>\n",
       "      <td>0</td>\n",
       "      <td>0</td>\n",
       "      <td>0</td>\n",
       "      <td>0</td>\n",
       "      <td>0</td>\n",
       "      <td>0</td>\n",
       "      <td>0</td>\n",
       "      <td>0</td>\n",
       "    </tr>\n",
       "    <tr>\n",
       "      <th>1</th>\n",
       "      <td>0</td>\n",
       "      <td>0</td>\n",
       "      <td>0</td>\n",
       "      <td>0</td>\n",
       "      <td>0</td>\n",
       "      <td>0</td>\n",
       "      <td>0</td>\n",
       "      <td>0</td>\n",
       "      <td>0</td>\n",
       "      <td>0</td>\n",
       "      <td>...</td>\n",
       "      <td>0</td>\n",
       "      <td>0</td>\n",
       "      <td>0</td>\n",
       "      <td>0</td>\n",
       "      <td>0</td>\n",
       "      <td>0</td>\n",
       "      <td>0</td>\n",
       "      <td>0</td>\n",
       "      <td>0</td>\n",
       "      <td>0</td>\n",
       "    </tr>\n",
       "    <tr>\n",
       "      <th>2</th>\n",
       "      <td>1</td>\n",
       "      <td>0</td>\n",
       "      <td>0</td>\n",
       "      <td>0</td>\n",
       "      <td>0</td>\n",
       "      <td>0</td>\n",
       "      <td>0</td>\n",
       "      <td>0</td>\n",
       "      <td>0</td>\n",
       "      <td>0</td>\n",
       "      <td>...</td>\n",
       "      <td>0</td>\n",
       "      <td>1</td>\n",
       "      <td>0</td>\n",
       "      <td>0</td>\n",
       "      <td>0</td>\n",
       "      <td>0</td>\n",
       "      <td>0</td>\n",
       "      <td>0</td>\n",
       "      <td>0</td>\n",
       "      <td>0</td>\n",
       "    </tr>\n",
       "    <tr>\n",
       "      <th>3</th>\n",
       "      <td>1</td>\n",
       "      <td>0</td>\n",
       "      <td>0</td>\n",
       "      <td>0</td>\n",
       "      <td>0</td>\n",
       "      <td>0</td>\n",
       "      <td>0</td>\n",
       "      <td>0</td>\n",
       "      <td>0</td>\n",
       "      <td>0</td>\n",
       "      <td>...</td>\n",
       "      <td>0</td>\n",
       "      <td>1</td>\n",
       "      <td>0</td>\n",
       "      <td>0</td>\n",
       "      <td>0</td>\n",
       "      <td>0</td>\n",
       "      <td>0</td>\n",
       "      <td>0</td>\n",
       "      <td>0</td>\n",
       "      <td>0</td>\n",
       "    </tr>\n",
       "    <tr>\n",
       "      <th>4</th>\n",
       "      <td>0</td>\n",
       "      <td>0</td>\n",
       "      <td>0</td>\n",
       "      <td>1</td>\n",
       "      <td>0</td>\n",
       "      <td>0</td>\n",
       "      <td>0</td>\n",
       "      <td>0</td>\n",
       "      <td>0</td>\n",
       "      <td>0</td>\n",
       "      <td>...</td>\n",
       "      <td>0</td>\n",
       "      <td>0</td>\n",
       "      <td>0</td>\n",
       "      <td>0</td>\n",
       "      <td>0</td>\n",
       "      <td>0</td>\n",
       "      <td>0</td>\n",
       "      <td>0</td>\n",
       "      <td>0</td>\n",
       "      <td>0</td>\n",
       "    </tr>\n",
       "  </tbody>\n",
       "</table>\n",
       "<p>5 rows × 171 columns</p>\n",
       "</div>"
      ],
      "text/plain": [
       "   Reason_score  State_ FL  State_AK  State_AL  State_AR  State_AZ  State_CA  \\\n",
       "0             0          0         0         0         0         0         0   \n",
       "1             0          0         0         0         0         0         0   \n",
       "2             1          0         0         0         0         0         0   \n",
       "3             1          0         0         0         0         0         0   \n",
       "4             0          0         0         1         0         0         0   \n",
       "\n",
       "   State_CO  State_CT  State_DE  ...  Category_F  Category_G  Category_H  \\\n",
       "0         0         0         0  ...           0           0           0   \n",
       "1         0         0         0  ...           0           0           0   \n",
       "2         0         0         0  ...           0           1           0   \n",
       "3         0         0         0  ...           0           1           0   \n",
       "4         0         0         0  ...           0           0           0   \n",
       "\n",
       "   Category_I  Category_X  Secondary Category_ C  Secondary Category_ D  \\\n",
       "0           0           0                      0                      0   \n",
       "1           0           0                      0                      0   \n",
       "2           0           0                      0                      0   \n",
       "3           0           0                      0                      0   \n",
       "4           0           0                      0                      0   \n",
       "\n",
       "   Secondary Category_ E  Secondary Category_ F  Secondary Category_ G  \n",
       "0                      0                      0                      0  \n",
       "1                      0                      0                      0  \n",
       "2                      0                      0                      0  \n",
       "3                      0                      0                      0  \n",
       "4                      0                      0                      0  \n",
       "\n",
       "[5 rows x 171 columns]"
      ]
     },
     "execution_count": 91,
     "metadata": {},
     "output_type": "execute_result"
    }
   ],
   "source": [
    "# show the sizes of the training and test sets\n",
    "print(X_train.shape)\n",
    "print(X_test.shape)\n",
    "print(y_train.value_counts())\n",
    "print(y_test.value_counts())\n",
    "#view the training features\n",
    "X_train.head()"
   ]
  },
  {
   "cell_type": "code",
   "execution_count": 92,
   "id": "37deaba7",
   "metadata": {},
   "outputs": [
    {
     "name": "stdout",
     "output_type": "stream",
     "text": [
      "Reason_score             0\n",
      "State_ FL                0\n",
      "State_AK                 0\n",
      "State_AL                 0\n",
      "State_AR                 0\n",
      "                        ..\n",
      "Secondary Category_ C    0\n",
      "Secondary Category_ D    0\n",
      "Secondary Category_ E    0\n",
      "Secondary Category_ F    0\n",
      "Secondary Category_ G    0\n",
      "Length: 171, dtype: int64\n",
      "Reason_score             0\n",
      "State_ FL                0\n",
      "State_AK                 0\n",
      "State_AL                 0\n",
      "State_AR                 0\n",
      "                        ..\n",
      "Secondary Category_ C    0\n",
      "Secondary Category_ D    0\n",
      "Secondary Category_ E    0\n",
      "Secondary Category_ F    0\n",
      "Secondary Category_ G    0\n",
      "Length: 171, dtype: int64\n"
     ]
    }
   ],
   "source": [
    "#look for missing data in the training and test sets\n",
    "print(X_train.isna().sum())\n",
    "print(X_test.isna().sum())"
   ]
  },
  {
   "cell_type": "markdown",
   "id": "073c9064",
   "metadata": {},
   "source": [
    "### Summary of Data Preparation Steps\n",
    "\n",
    "$\\bullet$ Dropped unnecessary data <br>\n",
    "$\\bullet$ Created dummy variables for the categorical data <br>\n",
    "$\\bullet$ Split data into training and test sets"
   ]
  },
  {
   "cell_type": "markdown",
   "id": "e0270af3",
   "metadata": {},
   "source": [
    "# Milestone 3: Train and Evaluate Model (Week 10)"
   ]
  },
  {
   "cell_type": "markdown",
   "id": "bc605b35",
   "metadata": {},
   "source": [
    "### In Milestone 3, you will begin the process of selecting, building, and evaluating a model. You are required to train and evaluate at least one model in this milestone. Write step-by-step for performing each of these steps. You can use any methods/tools you think are most appropriate, but you should explain/justify why you are selecting the model(s) and evaluation metric(s) you choose. It is important to think about what type of model and metric makes sense for your problem. Again, do what makes the most sense for your project. Write a short overview/conclusion of the insights gained from your model building/evaluation."
   ]
  },
  {
   "cell_type": "markdown",
   "id": "54150113",
   "metadata": {},
   "source": [
    "### Rationale for choosing a Logistic & Decision Tree Models\n",
    "\n",
    "$\\bullet$ Logistic Regression Model: In a US Congressional Campaign, the most important thing to focus on is the campaign success. The goal is to have the campaign playbook ready and available prior to the campaign start, and with the logistic regression you have a way to predict this outcome (Party is the target). <br>\n",
    "$\\bullet$ Decision Tree Classifier: The idea of a Decision Tree is for one to see if decisions are made at each step, there will be another decision to made at the next step, until you finally work your way down the decision tree to an ultimate outcome (Party is the target). <br>"
   ]
  },
  {
   "cell_type": "markdown",
   "id": "7a8d9839",
   "metadata": {},
   "source": [
    "### 1st Model: Train a logistic regression using the training data."
   ]
  },
  {
   "cell_type": "code",
   "execution_count": 93,
   "id": "b57505e2",
   "metadata": {},
   "outputs": [],
   "source": [
    "#import logistic regression model\n",
    "from sklearn.linear_model import LogisticRegression\n",
    "\n",
    "#import evaluation tools\n",
    "from yellowbrick.classifier import ConfusionMatrix\n",
    "from yellowbrick.classifier import ClassificationReport\n",
    "from yellowbrick.classifier import ROCAUC"
   ]
  },
  {
   "cell_type": "code",
   "execution_count": 94,
   "id": "43192b04",
   "metadata": {},
   "outputs": [
    {
     "data": {
      "text/plain": [
       "LogisticRegression(max_iter=500)"
      ]
     },
     "execution_count": 94,
     "metadata": {},
     "output_type": "execute_result"
    }
   ],
   "source": [
    "#instantiate the logistic regression model \n",
    "logreg_model = LogisticRegression(max_iter = 500)\n",
    "#fit the model to the training set\n",
    "logreg_model.fit(X_train, y_train) "
   ]
  },
  {
   "cell_type": "markdown",
   "id": "b430f2a3",
   "metadata": {},
   "source": [
    "### Logistic model accuracy and confusion  matrix on test set"
   ]
  },
  {
   "cell_type": "code",
   "execution_count": 95,
   "id": "773aaadd",
   "metadata": {},
   "outputs": [
    {
     "name": "stderr",
     "output_type": "stream",
     "text": [
      "C:\\Users\\kadams\\Anaconda3\\lib\\site-packages\\sklearn\\base.py:450: UserWarning: X does not have valid feature names, but LogisticRegression was fitted with feature names\n",
      "  warnings.warn(\n"
     ]
    },
    {
     "name": "stdout",
     "output_type": "stream",
     "text": [
      "Model Accuracy: 73.98%\n"
     ]
    },
    {
     "data": {
      "image/png": "[encoded data removed]",
      "text/plain": [
       "<Figure size 1080x504 with 1 Axes>"
      ]
     },
     "metadata": {},
     "output_type": "display_data"
    },
    {
     "data": {
      "text/plain": [
       "<AxesSubplot:title={'center':'LogisticRegression Confusion Matrix'}, xlabel='Predicted Class', ylabel='True Class'>"
      ]
     },
     "execution_count": 95,
     "metadata": {},
     "output_type": "execute_result"
    }
   ],
   "source": [
    "#get model accuracy and create a confusion matrix\n",
    "\n",
    "# create class labels for confusion matrix\n",
    "# Democrat is 0 and Republican is 1\n",
    "label_encoder = {0: 'Democrat', 1: 'Republican'}\n",
    "\n",
    "#initialize the confusion matrix\n",
    "cm = ConfusionMatrix(logreg_model, encoder = label_encoder,  percent=False)\n",
    "\n",
    "#fit the test set to the confusion matrix\n",
    "cm.fit(X_test, y_test)\n",
    "\n",
    "#creates the confusion matrix and gets the accuracy\n",
    "mod_acc = 100*cm.score(X_test, y_test)\n",
    "print('Model Accuracy: ', round(mod_acc,2), '%', sep = '')\n",
    "\n",
    "#change fontsize of the labels in the figure\n",
    "for label in cm.ax.texts:\n",
    "    label.set_size(25)\n",
    "\n",
    "#display the confusion matrix\n",
    "cm.show()"
   ]
  },
  {
   "cell_type": "markdown",
   "id": "c0ced1b4",
   "metadata": {},
   "source": [
    "### Precision, recall, and F1-score for the test set predictions "
   ]
  },
  {
   "cell_type": "code",
   "execution_count": 96,
   "id": "af08af1a",
   "metadata": {},
   "outputs": [
    {
     "name": "stderr",
     "output_type": "stream",
     "text": [
      "C:\\Users\\kadams\\Anaconda3\\lib\\site-packages\\sklearn\\base.py:450: UserWarning: X does not have valid feature names, but LogisticRegression was fitted with feature names\n",
      "  warnings.warn(\n"
     ]
    },
    {
     "data": {
      "image/png": "[encoded data removed]",
      "text/plain": [
       "<Figure size 1080x504 with 2 Axes>"
      ]
     },
     "metadata": {},
     "output_type": "display_data"
    },
    {
     "data": {
      "text/plain": [
       "<AxesSubplot:title={'center':'LogisticRegression Classification Report'}>"
      ]
     },
     "execution_count": 96,
     "metadata": {},
     "output_type": "execute_result"
    }
   ],
   "source": [
    "#get precision, recall, and F1-score from the classification report\n",
    "#set the size of the figure and the font size \n",
    "plt.rcParams['figure.figsize'] = (15, 7)\n",
    "plt.rcParams['font.size'] = 20\n",
    "\n",
    "#instantiate the classification report\n",
    "class_report = ClassificationReport(logreg_model, encoder = label_encoder)\n",
    "\n",
    "#fit the classification report to the test data\n",
    "class_report.fit(X_train, y_test)  \n",
    "#evaluate the model on the test data\n",
    "class_report.score(X_test, y_test)  \n",
    "class_report.show()"
   ]
  },
  {
   "cell_type": "code",
   "execution_count": 97,
   "id": "d7b1a1dc",
   "metadata": {},
   "outputs": [
    {
     "name": "stderr",
     "output_type": "stream",
     "text": [
      "C:\\Users\\kadams\\Anaconda3\\lib\\site-packages\\sklearn\\base.py:450: UserWarning: X does not have valid feature names, but LogisticRegression was fitted with feature names\n",
      "  warnings.warn(\n"
     ]
    },
    {
     "data": {
      "image/png": "[encoded data removed]",
      "text/plain": [
       "<Figure size 1080x504 with 1 Axes>"
      ]
     },
     "metadata": {},
     "output_type": "display_data"
    },
    {
     "data": {
      "text/plain": [
       "<AxesSubplot:title={'center':'ROC Curves for LogisticRegression'}, xlabel='False Positive Rate', ylabel='True Positive Rate'>"
      ]
     },
     "execution_count": 97,
     "metadata": {},
     "output_type": "execute_result"
    }
   ],
   "source": [
    "# ROC and AUC\n",
    "#Instantiate the visualizer\n",
    "roc_curve = ROCAUC(logreg_model, encoder = label_encoder, solver = 'liblinear')\n",
    "\n",
    "#fit the ROC curve to the test data\n",
    "roc_curve.fit(X_test, y_test)\n",
    "#evaluate the model on the test data\n",
    "roc_curve.score(X_test, y_test)  \n",
    "roc_curve.show()"
   ]
  },
  {
   "cell_type": "markdown",
   "id": "ffad5171",
   "metadata": {},
   "source": [
    "### 2nd Model: Fit a decision tree classifier on the training set."
   ]
  },
  {
   "cell_type": "code",
   "execution_count": 98,
   "id": "412ed025",
   "metadata": {},
   "outputs": [],
   "source": [
    "#import libraries\n",
    "from sklearn.tree import DecisionTreeClassifier\n",
    "from sklearn.metrics import accuracy_score\n",
    "from sklearn.metrics import classification_report\n",
    "from sklearn.metrics import confusion_matrix\n",
    "import sklearn.metrics as metrics"
   ]
  },
  {
   "cell_type": "code",
   "execution_count": 99,
   "id": "6cfc2eaf",
   "metadata": {},
   "outputs": [],
   "source": [
    "# training the Decision Tree Classifier\n",
    "clf_model = DecisionTreeClassifier() \n",
    "# Fit the Decision Tree model to the training data \n",
    "clf_model.fit(X_train,y_train)\n",
    "# predict test dependent variable\n",
    "y_pred_clf = clf_model.predict(X_test)"
   ]
  },
  {
   "cell_type": "code",
   "execution_count": 100,
   "id": "7a41641c",
   "metadata": {},
   "outputs": [
    {
     "name": "stderr",
     "output_type": "stream",
     "text": [
      "C:\\Users\\kadams\\Anaconda3\\lib\\site-packages\\sklearn\\base.py:450: UserWarning: X does not have valid feature names, but DecisionTreeClassifier was fitted with feature names\n",
      "  warnings.warn(\n"
     ]
    },
    {
     "name": "stdout",
     "output_type": "stream",
     "text": [
      "Model Accuracy: 73.17%\n"
     ]
    },
    {
     "data": {
      "image/png": "[encoded data removed]",
      "text/plain": [
       "<Figure size 1080x504 with 1 Axes>"
      ]
     },
     "metadata": {},
     "output_type": "display_data"
    },
    {
     "data": {
      "text/plain": [
       "<AxesSubplot:title={'center':'DecisionTreeClassifier Confusion Matrix'}, xlabel='Predicted Class', ylabel='True Class'>"
      ]
     },
     "execution_count": 100,
     "metadata": {},
     "output_type": "execute_result"
    }
   ],
   "source": [
    "#get model accuracy and create a confusion matrix\n",
    "\n",
    "# create class labels for confusion matrix\n",
    "# Democrat is 0 and Republican is 1\n",
    "label_encoder = {0: 'Democrat', 1: 'Republican'}\n",
    "\n",
    "#initialize the confusion matrix\n",
    "cm = ConfusionMatrix(clf_model, encoder = label_encoder,  percent=False)\n",
    "\n",
    "#fit the test set to the confusion matrix\n",
    "cm.fit(X_test, y_test)\n",
    "\n",
    "#creates the confusion matrix and gets the accuracy\n",
    "mod_acc = 100*cm.score(X_test, y_test)\n",
    "print('Model Accuracy: ', round(mod_acc,2), '%', sep = '')\n",
    "\n",
    "#change fontsize of the labels in the figure\n",
    "for label in cm.ax.texts:\n",
    "    label.set_size(25)\n",
    "\n",
    "#display the confusion matrix\n",
    "cm.show()"
   ]
  },
  {
   "cell_type": "markdown",
   "id": "810797f4",
   "metadata": {},
   "source": [
    "### Create visualization of the decision tree"
   ]
  },
  {
   "cell_type": "code",
   "execution_count": 43,
   "id": "91a89cb2",
   "metadata": {},
   "outputs": [
    {
     "data": {
      "image/png": "[encoded data removed]",
      "text/plain": [
       "<Figure size 1080x504 with 1 Axes>"
      ]
     },
     "metadata": {},
     "output_type": "display_data"
    }
   ],
   "source": [
    "from sklearn import tree as t\n",
    "\n",
    "feature_names = list(df.drop(['Reason','Reason_tokenized', 'Reason_stemmed', 'Reason_stemmed_sentence', 'polarity', 'subjectivity'], axis=1).columns)\n",
    "target_names = [str(s) for s in df['Party']]\n",
    "tree = t.plot_tree(clf_model, filled=True, feature_names=feature_names, class_names=target_names)"
   ]
  },
  {
   "cell_type": "markdown",
   "id": "ee8892b4",
   "metadata": {},
   "source": [
    "### Use X2 to find the 5 best features in the dataset and run the Logistic Regression Model and Decision Tree Classifier again"
   ]
  },
  {
   "cell_type": "code",
   "execution_count": 101,
   "id": "3aa266a8",
   "metadata": {},
   "outputs": [],
   "source": [
    "# Load libraries (pg. 174)\n",
    "from sklearn.feature_selection import SelectKBest\n",
    "from sklearn.feature_selection import chi2, f_classif"
   ]
  },
  {
   "cell_type": "code",
   "execution_count": 102,
   "id": "d0df00b4",
   "metadata": {},
   "outputs": [],
   "source": [
    "# Create target and feature_names list\n",
    "features = X_train\n",
    "target = y_train"
   ]
  },
  {
   "cell_type": "code",
   "execution_count": 103,
   "id": "47744dfb",
   "metadata": {},
   "outputs": [],
   "source": [
    "# Select 5 features with highest chi-squared statistics\n",
    "chi2_selector=SelectKBest(chi2, k=5)\n",
    "features_kbest = chi2_selector.fit_transform(features, target)"
   ]
  },
  {
   "cell_type": "code",
   "execution_count": 104,
   "id": "d645031c",
   "metadata": {},
   "outputs": [
    {
     "name": "stdout",
     "output_type": "stream",
     "text": [
      "Original number of features: 171\n",
      "Reduced number of features: 5\n"
     ]
    }
   ],
   "source": [
    "# Show results\n",
    "print (\"Original number of features:\", features.shape[1])\n",
    "print (\"Reduced number of features:\", features_kbest.shape[1])"
   ]
  },
  {
   "cell_type": "code",
   "execution_count": 105,
   "id": "f097b90a",
   "metadata": {},
   "outputs": [
    {
     "data": {
      "text/html": [
       "<div>\n",
       "<style scoped>\n",
       "    .dataframe tbody tr th:only-of-type {\n",
       "        vertical-align: middle;\n",
       "    }\n",
       "\n",
       "    .dataframe tbody tr th {\n",
       "        vertical-align: top;\n",
       "    }\n",
       "\n",
       "    .dataframe thead th {\n",
       "        text-align: right;\n",
       "    }\n",
       "</style>\n",
       "<table border=\"1\" class=\"dataframe\">\n",
       "  <thead>\n",
       "    <tr style=\"text-align: right;\">\n",
       "      <th></th>\n",
       "      <th>State_IN</th>\n",
       "      <th>State_KS</th>\n",
       "      <th>State_NE</th>\n",
       "      <th>State_TX</th>\n",
       "      <th>Congress_77th</th>\n",
       "    </tr>\n",
       "  </thead>\n",
       "  <tbody>\n",
       "    <tr>\n",
       "      <th>0</th>\n",
       "      <td>0</td>\n",
       "      <td>0</td>\n",
       "      <td>0</td>\n",
       "      <td>0</td>\n",
       "      <td>0</td>\n",
       "    </tr>\n",
       "    <tr>\n",
       "      <th>1</th>\n",
       "      <td>0</td>\n",
       "      <td>0</td>\n",
       "      <td>0</td>\n",
       "      <td>0</td>\n",
       "      <td>0</td>\n",
       "    </tr>\n",
       "    <tr>\n",
       "      <th>2</th>\n",
       "      <td>0</td>\n",
       "      <td>0</td>\n",
       "      <td>0</td>\n",
       "      <td>1</td>\n",
       "      <td>0</td>\n",
       "    </tr>\n",
       "    <tr>\n",
       "      <th>3</th>\n",
       "      <td>0</td>\n",
       "      <td>0</td>\n",
       "      <td>0</td>\n",
       "      <td>0</td>\n",
       "      <td>0</td>\n",
       "    </tr>\n",
       "    <tr>\n",
       "      <th>4</th>\n",
       "      <td>0</td>\n",
       "      <td>0</td>\n",
       "      <td>0</td>\n",
       "      <td>0</td>\n",
       "      <td>0</td>\n",
       "    </tr>\n",
       "    <tr>\n",
       "      <th>...</th>\n",
       "      <td>...</td>\n",
       "      <td>...</td>\n",
       "      <td>...</td>\n",
       "      <td>...</td>\n",
       "      <td>...</td>\n",
       "    </tr>\n",
       "    <tr>\n",
       "      <th>487</th>\n",
       "      <td>0</td>\n",
       "      <td>0</td>\n",
       "      <td>0</td>\n",
       "      <td>0</td>\n",
       "      <td>0</td>\n",
       "    </tr>\n",
       "    <tr>\n",
       "      <th>488</th>\n",
       "      <td>0</td>\n",
       "      <td>0</td>\n",
       "      <td>0</td>\n",
       "      <td>0</td>\n",
       "      <td>0</td>\n",
       "    </tr>\n",
       "    <tr>\n",
       "      <th>489</th>\n",
       "      <td>0</td>\n",
       "      <td>0</td>\n",
       "      <td>0</td>\n",
       "      <td>0</td>\n",
       "      <td>0</td>\n",
       "    </tr>\n",
       "    <tr>\n",
       "      <th>490</th>\n",
       "      <td>0</td>\n",
       "      <td>0</td>\n",
       "      <td>0</td>\n",
       "      <td>1</td>\n",
       "      <td>0</td>\n",
       "    </tr>\n",
       "    <tr>\n",
       "      <th>491</th>\n",
       "      <td>0</td>\n",
       "      <td>0</td>\n",
       "      <td>0</td>\n",
       "      <td>0</td>\n",
       "      <td>0</td>\n",
       "    </tr>\n",
       "  </tbody>\n",
       "</table>\n",
       "<p>492 rows × 5 columns</p>\n",
       "</div>"
      ],
      "text/plain": [
       "     State_IN  State_KS  State_NE  State_TX  Congress_77th\n",
       "0           0         0         0         0              0\n",
       "1           0         0         0         0              0\n",
       "2           0         0         0         1              0\n",
       "3           0         0         0         0              0\n",
       "4           0         0         0         0              0\n",
       "..        ...       ...       ...       ...            ...\n",
       "487         0         0         0         0              0\n",
       "488         0         0         0         0              0\n",
       "489         0         0         0         0              0\n",
       "490         0         0         0         1              0\n",
       "491         0         0         0         0              0\n",
       "\n",
       "[492 rows x 5 columns]"
      ]
     },
     "execution_count": 105,
     "metadata": {},
     "output_type": "execute_result"
    }
   ],
   "source": [
    "# Get columns to keep and create new dataframe with those only\n",
    "cols = chi2_selector.get_support(indices=True)\n",
    "features_df_new = features.iloc[:,cols]\n",
    "features_df_new"
   ]
  },
  {
   "cell_type": "code",
   "execution_count": 106,
   "id": "82e9074d",
   "metadata": {},
   "outputs": [
    {
     "data": {
      "text/plain": [
       "(492, 5)"
      ]
     },
     "execution_count": 106,
     "metadata": {},
     "output_type": "execute_result"
    }
   ],
   "source": [
    "# Check shape of new df\n",
    "features_df_new.shape"
   ]
  },
  {
   "cell_type": "code",
   "execution_count": 114,
   "id": "5756dc0b",
   "metadata": {},
   "outputs": [],
   "source": [
    "# STEP 3: split the data into a training and test set\n",
    "X_chi = df[['State_IN', 'State_KS', 'State_NE', 'State_TX', 'Congress_77th']]\n",
    "#get the target\n",
    "y_chi = df['Party']"
   ]
  },
  {
   "cell_type": "code",
   "execution_count": 115,
   "id": "a6a4a0df",
   "metadata": {},
   "outputs": [],
   "source": [
    "#split the data into training and test sets (80% Training/20% Test)\n",
    "X_train_chi, X_test_chi, y_train_chi, y_test_chi = train_test_split(X_chi, y_chi, test_size = 0.2)"
   ]
  },
  {
   "cell_type": "code",
   "execution_count": 116,
   "id": "aa159e68",
   "metadata": {},
   "outputs": [],
   "source": [
    "#reset indices in the training and test sets to prevent pandas slicing warnings\n",
    "X_train_chi = X_train_chi.reset_index(drop = True) #drop + True drops the previous index\n",
    "X_test_chi = X_test_chi.reset_index(drop = True)\n",
    "y_train_chi = y_train_chi.reset_index(drop = True)\n",
    "y_test_chi = y_test_chi.reset_index(drop = True)"
   ]
  },
  {
   "cell_type": "markdown",
   "id": "103101de",
   "metadata": {},
   "source": [
    "### Run the Logistic Regression Model Again with 5 Best Features"
   ]
  },
  {
   "cell_type": "code",
   "execution_count": 117,
   "id": "459bacd9",
   "metadata": {},
   "outputs": [
    {
     "data": {
      "text/plain": [
       "LogisticRegression(max_iter=500)"
      ]
     },
     "execution_count": 117,
     "metadata": {},
     "output_type": "execute_result"
    }
   ],
   "source": [
    "#instantiate the logistic regression model \n",
    "logreg_model_5 = LogisticRegression(max_iter = 500)\n",
    "#fit the model to the training set\n",
    "logreg_model_5.fit(X_train_chi, y_train_chi) "
   ]
  },
  {
   "cell_type": "code",
   "execution_count": 121,
   "id": "7057f8be",
   "metadata": {},
   "outputs": [
    {
     "name": "stderr",
     "output_type": "stream",
     "text": [
      "C:\\Users\\kadams\\Anaconda3\\lib\\site-packages\\sklearn\\base.py:450: UserWarning: X does not have valid feature names, but LogisticRegression was fitted with feature names\n",
      "  warnings.warn(\n"
     ]
    },
    {
     "name": "stdout",
     "output_type": "stream",
     "text": [
      "Model Accuracy: 56.1%\n"
     ]
    },
    {
     "data": {
      "image/png": "[encoded data removed]",
      "text/plain": [
       "<Figure size 1080x504 with 1 Axes>"
      ]
     },
     "metadata": {},
     "output_type": "display_data"
    },
    {
     "data": {
      "text/plain": [
       "<AxesSubplot:title={'center':'LogisticRegression Confusion Matrix'}, xlabel='Predicted Class', ylabel='True Class'>"
      ]
     },
     "execution_count": 121,
     "metadata": {},
     "output_type": "execute_result"
    }
   ],
   "source": [
    "#get model accuracy and create a confusion matrix\n",
    "\n",
    "# create class labels for confusion matrix\n",
    "# Democrat is 0 and Republican is 1\n",
    "label_encoder = {0: 'Democrat', 1: 'Republican'}\n",
    "\n",
    "#initialize the confusion matrix\n",
    "cm = ConfusionMatrix(logreg_model_5, encoder = label_encoder,  percent=False)\n",
    "\n",
    "#fit the test set to the confusion matrix\n",
    "cm.fit(X_test_chi, y_test_chi)\n",
    "\n",
    "#creates the confusion matrix and gets the accuracy\n",
    "mod_acc = 100*cm.score(X_test_chi, y_test_chi)\n",
    "print('Model Accuracy: ', round(mod_acc,2), '%', sep = '')\n",
    "\n",
    "#change fontsize of the labels in the figure\n",
    "for label in cm.ax.texts:\n",
    "    label.set_size(25)\n",
    "\n",
    "#display the confusion matrix\n",
    "cm.show()"
   ]
  },
  {
   "cell_type": "markdown",
   "id": "05f81834",
   "metadata": {},
   "source": [
    "### Run Decision Tree Classifier Again with 5 Best Features"
   ]
  },
  {
   "cell_type": "code",
   "execution_count": 119,
   "id": "4be5425a",
   "metadata": {},
   "outputs": [
    {
     "data": {
      "text/plain": [
       "DecisionTreeClassifier(max_depth=3, min_samples_leaf=5, random_state=42)"
      ]
     },
     "execution_count": 119,
     "metadata": {},
     "output_type": "execute_result"
    }
   ],
   "source": [
    "# STEP 4: training the Decision Tree Classifier\n",
    "clf_model_5 = DecisionTreeClassifier(criterion=\"gini\", random_state=42,max_depth=3, min_samples_leaf=5)   \n",
    "clf_model_5.fit(X_train_chi,y_train_chi)"
   ]
  },
  {
   "cell_type": "code",
   "execution_count": 120,
   "id": "668b8d7f",
   "metadata": {},
   "outputs": [
    {
     "name": "stderr",
     "output_type": "stream",
     "text": [
      "C:\\Users\\kadams\\Anaconda3\\lib\\site-packages\\sklearn\\base.py:450: UserWarning: X does not have valid feature names, but DecisionTreeClassifier was fitted with feature names\n",
      "  warnings.warn(\n"
     ]
    },
    {
     "name": "stdout",
     "output_type": "stream",
     "text": [
      "Model Accuracy: 56.1%\n"
     ]
    },
    {
     "data": {
      "image/png": "[encoded data removed]",
      "text/plain": [
       "<Figure size 1080x504 with 1 Axes>"
      ]
     },
     "metadata": {},
     "output_type": "display_data"
    },
    {
     "data": {
      "text/plain": [
       "<AxesSubplot:title={'center':'DecisionTreeClassifier Confusion Matrix'}, xlabel='Predicted Class', ylabel='True Class'>"
      ]
     },
     "execution_count": 120,
     "metadata": {},
     "output_type": "execute_result"
    }
   ],
   "source": [
    "# STEP 5: get model accuracy and create a confusion matrix\n",
    "\n",
    "# create class labels for confusion matrix\n",
    "# Democrat is 0 and Republican is 1\n",
    "label_encoder = {0: 'Democrat', 1: 'Republican'}\n",
    "\n",
    "#initialize the confusion matrix\n",
    "cm= ConfusionMatrix(clf_model_5, encoder = label_encoder,  percent=False)\n",
    "\n",
    "#fit the test set to the confusion matrix\n",
    "cm.fit(X_test_chi, y_test_chi)\n",
    "\n",
    "#creates the confusion matrix and gets the accuracy\n",
    "mod_acc_chi = 100*cm.score(X_test_chi, y_test_chi)\n",
    "print('Model Accuracy: ', round(mod_acc_chi,2), '%', sep = '')\n",
    "\n",
    "#change fontsize of the labels in the figure\n",
    "for label in cm.ax.texts:\n",
    "    label.set_size(25)\n",
    "\n",
    "#display the confusion matrix\n",
    "cm.show()"
   ]
  },
  {
   "cell_type": "markdown",
   "id": "31fc03cc",
   "metadata": {},
   "source": [
    "### Write a short overview/conclusion of the insights gained from your model building/evaluation.\n",
    "\n",
    "$\\bullet$ Logistic Regression model (171 features) predicts Party (Democrat vs. Republican) with approximately $73.98\\%$ accuracy <br>\n",
    "$\\bullet$ Logistic Regression model with only the 5 best features predicts  Party (Democrat vs. Republican) with approximately $56.1\\%$ accuracy (these 5 features are the 'State_IN', 'State_KS', 'State_NE', 'State_TX', 'Congress_77th').<br>\n",
    "$\\bullet$ The Decision Tree Classifier (171 features) predicts Party (Democrat vs. Republican) with approximately $73.17\\%$ accuracy <br>\n",
    "$\\bullet$ The Decision Tree Classifier with only the 5 best features predicts Party (Democrat vs. Republican) with approximately $56.1\\%$ accuracy (these 5 features are the 'State_IN', 'State_KS', 'State_NE', 'State_TX', 'Congress_77th').<br>\n",
    "$\\bullet$ Based on the  best features ('State_IN', 'State_KS', 'State_NE', 'State_TX', 'Congress_77th') the Campaign Managers can have a better idea of what things can lead to resignations. These features provide play an important role in predicting Party resignations for the Campaign Managers, and have an overarching theme of being Midwest states (Kansas, Nebraska and Texas all sit along the 100W longitude line) with Indiana being close (90W), and the 77th Congress (world events - see below):  <br>\n",
    "$\\bullet$ State_IN is Indiana <br>\n",
    "$\\bullet$ State_KS is Kansas <br>\n",
    "$\\bullet$ State_NE is Nebraska <br>\n",
    "$\\bullet$ State_TX is Texas <br>\n",
    "$\\bullet$ Congress_77th was from 1941-1942 (start of World War II, President FDR).<br>\n",
    "\n",
    "$\\bullet$ Classification report and ROC curve all suggest the model has a good predictive power (AUC of 0.82), \"The area under the ROC curve (AUC) results were considered excellent for AUC values between 0.9-1, good for AUC values between 0.8-0.9, fair for AUC values between 0.7-0.8, poor for AUC values between 0.6-0.7 and failed for AUC values between 0.5-0.6.\" (El Khouli, 2009) <br>\n",
    "\n",
    "References\n",
    "1. El Khouli, R. H., Macura, K. J., Barker, P. B., Habba, M. R., Jacobs, M. A., &amp; Bluemke, D. A. (2009, November). Relationship of temporal resolution to diagnostic performance for dynamic contrast enhanced MRI of the breast. Journal of magnetic resonance imaging : JMRI. Retrieved February 20, 2022, from https://www.ncbi.nlm.nih.gov/pmc/articles/PMC2935260/ "
   ]
  },
  {
   "cell_type": "code",
   "execution_count": null,
   "id": "1e8d3e7f",
   "metadata": {},
   "outputs": [],
   "source": []
  }
 ],
 "metadata": {
  "kernelspec": {
   "display_name": "Python 3 (ipykernel)",
   "language": "python",
   "name": "python3"
  },
  "language_info": {
   "codemirror_mode": {
    "name": "ipython",
    "version": 3
   },
   "file_extension": ".py",
   "mimetype": "text/x-python",
   "name": "python",
   "nbconvert_exporter": "python",
   "pygments_lexer": "ipython3",
   "version": "3.8.12"
  }
 },
 "nbformat": 4,
 "nbformat_minor": 5
}
